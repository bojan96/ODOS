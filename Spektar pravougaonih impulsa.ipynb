{
 "cells": [
  {
   "cell_type": "markdown",
   "metadata": {},
   "source": [
    "U ovim primjerima se koristi Dirihleov kernel koji je u Scipy modulu implementiran kao `diric(x, n) = sin(x * n/2) / (n * sin(x / 2))`."
   ]
  },
  {
   "cell_type": "code",
   "execution_count": 1,
   "metadata": {},
   "outputs": [],
   "source": [
    "%matplotlib inline\n",
    "import numpy as np\n",
    "import matplotlib.pyplot as plt\n",
    "from scipy.special import diric"
   ]
  },
  {
   "cell_type": "code",
   "execution_count": 5,
   "metadata": {},
   "outputs": [
    {
     "data": {
      "text/plain": [
       "Text(0.5,0,'k')"
      ]
     },
     "execution_count": 5,
     "metadata": {},
     "output_type": "execute_result"
    },
    {
     "data": {
      "image/png": "[encoded data removed]",
      "text/plain": [
       "<Figure size 432x288 with 1 Axes>"
      ]
     },
     "metadata": {
      "needs_background": "light"
     },
     "output_type": "display_data"
    }
   ],
   "source": [
    "A = 1\n",
    "L = 5\n",
    "N = 40\n",
    "\n",
    "k = np.arange(-N/2, (N-1)/2)\n",
    "xf = np.abs(A*L/N * diric(2*np.pi*k/N, L))\n",
    "\n",
    "markerline, stemlines, baseline = plt.stem(k, xf)\n",
    "markerline.set_markeredgewidth(0)\n",
    "markerline.set_markersize(0)\n",
    "plt.xlabel('k')"
   ]
  },
  {
   "cell_type": "code",
   "execution_count": 4,
   "metadata": {},
   "outputs": [
    {
     "data": {
      "text/plain": [
       "Text(0.5,0,'k')"
      ]
     },
     "execution_count": 4,
     "metadata": {},
     "output_type": "execute_result"
    },
    {
     "data": {
      "image/png": "[encoded data removed]",
      "text/plain": [
       "<Figure size 432x288 with 1 Axes>"
      ]
     },
     "metadata": {
      "needs_background": "light"
     },
     "output_type": "display_data"
    }
   ],
   "source": [
    "A = 1\n",
    "L = 5\n",
    "N = 60\n",
    "\n",
    "k = np.arange(-N/2, (N-1)/2)\n",
    "xf = np.abs(A*L/N * diric(2*np.pi*k/N, L))\n",
    "\n",
    "markerline, stemlines, baseline = plt.stem(k, xf)\n",
    "markerline.set_markeredgewidth(0)\n",
    "markerline.set_markersize(0)\n",
    "plt.xlabel('k')"
   ]
  },
  {
   "cell_type": "code",
   "execution_count": 6,
   "metadata": {},
   "outputs": [
    {
     "data": {
      "text/plain": [
       "Text(0.5,0,'k')"
      ]
     },
     "execution_count": 6,
     "metadata": {},
     "output_type": "execute_result"
    },
    {
     "data": {
      "image/png": "[encoded data removed]",
      "text/plain": [
       "<Figure size 432x288 with 1 Axes>"
      ]
     },
     "metadata": {
      "needs_background": "light"
     },
     "output_type": "display_data"
    }
   ],
   "source": [
    "A = 1\n",
    "L = 5\n",
    "N = 120\n",
    "\n",
    "k = np.arange(-N/2, (N-1)/2)\n",
    "xf = np.abs(A*L/N * diric(2*np.pi*k/N, L))\n",
    "\n",
    "markerline, stemlines, baseline = plt.stem(k, xf)\n",
    "markerline.set_markeredgewidth(0)\n",
    "markerline.set_markersize(0)\n",
    "plt.xlabel('k')"
   ]
  },
  {
   "cell_type": "code",
   "execution_count": null,
   "metadata": {},
   "outputs": [],
   "source": [
    "A = 1\n",
    "L = 5\n",
    "\n",
    "omega = np.linspace(-np.pi, np.pi, 1001)\n",
    "xdtft_mod = A*L*diric(omega, L)\n",
    "xdtft_arg = -(L-1)*omega/2 + np.pi*(2*np.sign(diric(omega, L))-1)\n",
    "xdtft_arg = xdtft_arg % (2*np.pi) - np.pi\n",
    "\n",
    "plt.subplot(211)\n",
    "plt.plot(omega, np.abs(xdtft_mod))\n",
    "plt.xlabel('w')\n",
    "plt.subplot(212)\n",
    "plt.plot(omega, xdtft_arg)"
   ]
  },
  {
   "cell_type": "code",
   "execution_count": null,
   "metadata": {},
   "outputs": [],
   "source": [
    "A = 1\n",
    "L = 5\n",
    "\n",
    "omega = np.linspace(-2*np.pi, 2*np.pi, 1001)\n",
    "xdtft = A*L*diric(omega, L)\n",
    "\n",
    "plt.plot(omega, np.abs(xdtft))\n",
    "plt.xlabel('w')"
   ]
  },
  {
   "cell_type": "code",
   "execution_count": null,
   "metadata": {},
   "outputs": [],
   "source": []
  }
 ],
 "metadata": {
  "kernelspec": {
   "display_name": "Python 3",
   "language": "python",
   "name": "python3"
  },
  "language_info": {
   "codemirror_mode": {
    "name": "ipython",
    "version": 3
   },
   "file_extension": ".py",
   "mimetype": "text/x-python",
   "name": "python",
   "nbconvert_exporter": "python",
   "pygments_lexer": "ipython3",
   "version": "3.6.4"
  }
 },
 "nbformat": 4,
 "nbformat_minor": 2
}
