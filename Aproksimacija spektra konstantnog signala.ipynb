{
 "cells": [
  {
   "cell_type": "markdown",
   "metadata": {},
   "source": [
    "Konstantan signal $x(n)=1$ nema konačnu energiju pa njegova DTFT ne konvergira.\n",
    "$$X(e^{j \\omega}) = \\sum_{n=-\\infty}^{\\infty} e^{-j \\omega n}.$$\n",
    "Međutim, korištenjem Dirakovih funkcija vrijedi\n",
    "$$\\frac{1}{2 \\pi} \\int_{-\\pi}^{\\pi} \\tilde{\\delta}(\\omega) e^{j \\omega n} d \\omega = 1$$\n",
    "pa možemo smatrati da postoji transformacioni par\n",
    "$$1 \\leftrightarrow \\tilde{\\delta}(\\omega).$$\n",
    "\n",
    "DTFT konstante je granična vrijednost niza funkcija\n",
    "$$s_k (\\omega) = \\sum_{n=-k}^{k} e^{-j \\omega n}.$$\n",
    "Nacrtaćemo module elemenata ovog niza za nekoliko vrijednosti $k$."
   ]
  },
  {
   "cell_type": "code",
   "execution_count": null,
   "metadata": {},
   "outputs": [],
   "source": [
    "%matplotlib notebook\n",
    "import numpy as np\n",
    "import matplotlib.pyplot as plt\n",
    "\n",
    "def compute_sum(k):\n",
    "    w = np.linspace(-np.pi, np.pi, 1000)\n",
    "    s = np.zeros_like(w, dtype='complex128')\n",
    "    for n in range(-k, k):\n",
    "        s += np.exp(1j*w*n)\n",
    "    \n",
    "    return s"
   ]
  },
  {
   "cell_type": "markdown",
   "metadata": {},
   "source": [
    "$k = 5$"
   ]
  },
  {
   "cell_type": "code",
   "execution_count": null,
   "metadata": {},
   "outputs": [],
   "source": [
    "fig = plt.figure()\n",
    "\n",
    "s = compute_sum(5)\n",
    "plt.plot(w, np.abs(s))\n",
    "plt.xlabel('w')"
   ]
  },
  {
   "cell_type": "markdown",
   "metadata": {},
   "source": [
    "$k=15$"
   ]
  },
  {
   "cell_type": "code",
   "execution_count": null,
   "metadata": {},
   "outputs": [],
   "source": [
    "s = compute_sum(15)\n",
    "plt.plot(w, np.abs(s))"
   ]
  },
  {
   "cell_type": "markdown",
   "metadata": {},
   "source": [
    "$k = 40$"
   ]
  },
  {
   "cell_type": "code",
   "execution_count": null,
   "metadata": {},
   "outputs": [],
   "source": [
    "s = compute_sum(40)\n",
    "plt.plot(w, np.abs(s))"
   ]
  },
  {
   "cell_type": "code",
   "execution_count": null,
   "metadata": {},
   "outputs": [],
   "source": []
  }
 ],
 "metadata": {
  "kernelspec": {
   "display_name": "Python 3",
   "language": "python",
   "name": "python3"
  },
  "language_info": {
   "codemirror_mode": {
    "name": "ipython",
    "version": 3
   },
   "file_extension": ".py",
   "mimetype": "text/x-python",
   "name": "python",
   "nbconvert_exporter": "python",
   "pygments_lexer": "ipython3",
   "version": "3.6.4"
  }
 },
 "nbformat": 4,
 "nbformat_minor": 2
}
