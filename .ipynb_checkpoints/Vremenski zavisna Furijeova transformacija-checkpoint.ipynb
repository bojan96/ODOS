{
 "cells": [
  {
   "cell_type": "markdown",
   "metadata": {},
   "source": [
    "# Vremenski zavisna Furijeova transformacija"
   ]
  },
  {
   "cell_type": "markdown",
   "metadata": {},
   "source": [
    "Za određivanje STFT signala u Python-u je moguće korisiti funkciju <a href=\"https://docs.scipy.org/doc/scipy/reference/generated/scipy.signal.stft.html\">stft</a> iz scipy.signal biblioteke."
   ]
  },
  {
   "cell_type": "markdown",
   "metadata": {},
   "source": [
    "## Zadaci"
   ]
  },
  {
   "cell_type": "markdown",
   "metadata": {},
   "source": [
    "1. Dat je frekvencijski modulisan signal $x(t) = cos(2\\pi \\mu t^2)$ . Generisati odmjerke ovog signala na intervalu $t = 0$ do $t =100 \\mu s$ . Uzeti da je $\\mu = 2.4 \\times 10^{10}$, a frekvencija odmjeravanja iznosi $10MHz$. Nacrtati signal u vremenskom domenu korištenjem naredbe plot."
   ]
  },
  {
   "cell_type": "code",
   "execution_count": 1,
   "metadata": {},
   "outputs": [],
   "source": [
    "### KOD\n",
    "FS = 10 ** 6\n",
    "mi = 2.4 * 10 ** 10\n",
    "\n",
    "x = np.cos(2 * np.pi )"
   ]
  },
  {
   "cell_type": "markdown",
   "metadata": {},
   "source": [
    "2. Odrediti trenutnu frekvenciju ovog signala i njenu maksimalnu vrijednost."
   ]
  },
  {
   "cell_type": "markdown",
   "metadata": {},
   "source": [
    "3. Nacrtati spektrogram signala iz tačke 1. Iskoristiti Hanov prozor dužine 128. Pomak prozora treba da iznosi 8 odmjeraka, a FFT računati u 512 tačaka uz dopunjavanje nulama."
   ]
  },
  {
   "cell_type": "code",
   "execution_count": 1,
   "metadata": {},
   "outputs": [],
   "source": [
    "### KOD"
   ]
  },
  {
   "cell_type": "markdown",
   "metadata": {},
   "source": [
    "4. Kako se na osnovu spektrograma može odrediti trenutna frekvencija ovog signala? Odrediti njenu vrijednost i uporediti sa rezultatom iz tačke 2."
   ]
  },
  {
   "cell_type": "markdown",
   "metadata": {},
   "source": [
    "5. Nacrtati spektar signala koji se dobija za prozor pomjeren u $40\\mu s$."
   ]
  },
  {
   "cell_type": "code",
   "execution_count": 2,
   "metadata": {},
   "outputs": [],
   "source": [
    "### KOD"
   ]
  },
  {
   "cell_type": "markdown",
   "metadata": {},
   "source": [
    "6. Ponoviti tačke 1-5 za različite vrijednosti parametra $\\mu$."
   ]
  },
  {
   "cell_type": "markdown",
   "metadata": {},
   "source": [
    "## Uticaj dužine prozora na rezoluciju u vremenu i frekvenciji"
   ]
  },
  {
   "cell_type": "markdown",
   "metadata": {},
   "source": [
    "1. Generisati 256 odmjeraka signala datog jednačinom\n",
    "$$\n",
    "x(n) = \\begin{cases}\n",
    "      10, & n=79 \\\\\n",
    "      cos(0.15\\pi n), & \\text{inače}\n",
    "    \\end{cases}.\n",
    "$$\n",
    "Nacrtati signal u vremenskom domenu."
   ]
  },
  {
   "cell_type": "code",
   "execution_count": 3,
   "metadata": {},
   "outputs": [],
   "source": [
    "### KOD"
   ]
  },
  {
   "cell_type": "markdown",
   "metadata": {},
   "source": [
    "2. Nacrtati spektrograme signala iz tačke 1. Iskoristiti Hemingove prozore dužine 8, 32, 64 i 128 odmjeraka. Pomak prozora treba da iznosi 1 odmjerak, a FFT računati u 512 tačaka uz dopunjavanje nulama. Signal je definisan kao diskretan pa se za frekvenciju odmjeravanja može iskoristiti vrijednost 1Hz."
   ]
  },
  {
   "cell_type": "code",
   "execution_count": 4,
   "metadata": {},
   "outputs": [],
   "source": [
    "### KOD"
   ]
  },
  {
   "cell_type": "markdown",
   "metadata": {},
   "source": [
    "3. Na osnovu dobijenih spektrograma ustanoviti na koji način rezolucija u vremenu, odnosno, frekvenciji zavisi od dužine prozora."
   ]
  },
  {
   "cell_type": "markdown",
   "metadata": {},
   "source": [
    "4. Fiksirati sada dužinu bloka (prozora) na 32 odmjerka, FFT računati u 32 i 256 tačaka, a pomaci prozora treba da iznose 1 i 10 odmjeraka. Nacrtati spektrograme."
   ]
  },
  {
   "cell_type": "code",
   "execution_count": 5,
   "metadata": {},
   "outputs": [],
   "source": [
    "### KOD"
   ]
  },
  {
   "cell_type": "markdown",
   "metadata": {},
   "source": [
    "5. Da li rezolucija zavisi od pomaka prozora i broja tačaka u kojima se računa FFT?"
   ]
  },
  {
   "cell_type": "markdown",
   "metadata": {},
   "source": [
    "## Spektrogram govornog signala"
   ]
  },
  {
   "cell_type": "markdown",
   "metadata": {},
   "source": [
    "1. Učitati signal <i>iaeao.wav</i> u Python. Prikazati signal u vremenskom domenu korištenjem naredbe plot. Identifikovati intervale tišine na početku i na kraju uzorka signala (fajla) i formirati novi signal isjecanjem ovih intervala. Prikazati dobijeni signal u vremenskom domenu."
   ]
  },
  {
   "cell_type": "code",
   "execution_count": 6,
   "metadata": {},
   "outputs": [],
   "source": [
    "### KOD"
   ]
  },
  {
   "cell_type": "markdown",
   "metadata": {},
   "source": [
    "2. Pošto se govorni signal za samoglasnike u prvoj aproksimaciji može modelovati izlazom iz filtra pobuđenog nizom impulsa, njegov talasni oblik je kvaziperiodičan i njegova Furijeova transformacija ima dvije karakteristične osobine. Prvo, spektralni oblik filtra vokalnog trakta bi trebalo da bude vidljiv u nekoliko (manje od 5) velikih rezonantnih pikova. Drugo, spektar bi trebalo da se sastoji od mnogo linija na jednakim razmacima zbog kvaziperiodičnosti signala sa periodom (pitch period) od približno $10ms$.      Nacrtati spektrograme signala iz tačke 1. Iskoristiti Hemingove prozore dužine 64, 128, 256 i 512 odmjeraka. Pomak prozora treba da iznosi 31 odmjerak, a FFT računati u 1024 tačke uz dopunjavanje nulama."
   ]
  },
  {
   "cell_type": "code",
   "execution_count": 7,
   "metadata": {},
   "outputs": [],
   "source": [
    "### KOD"
   ]
  },
  {
   "cell_type": "markdown",
   "metadata": {},
   "source": [
    "3. Za koju dužinu prozora je vidljiva linijska priroda spektra? Izmjerite rastojanje između spektralnih linija u hercima i povežite to sa pitch periodom signala. Zašto se za druge dužine prozora ova pojava ne vidi?"
   ]
  },
  {
   "cell_type": "markdown",
   "metadata": {},
   "source": [
    "4. Druga spektralna osobina samoglasnika je ta da je sačinjen od nekoliko formanata (tj. 4 ili 5 rezonantnih pikova u frekvenciji). Za koju dužinu prozora se vide ovi pikovi? Zašto se za druge dužine prozora ova pojava ne vidi? Na kojim frekvencijama se nalaze ovi pikovi?"
   ]
  },
  {
   "cell_type": "code",
   "execution_count": 9,
   "metadata": {},
   "outputs": [],
   "source": [
    "### KOD"
   ]
  }
 ],
 "metadata": {
  "kernelspec": {
   "display_name": "Python 3",
   "language": "python",
   "name": "python3"
  },
  "language_info": {
   "codemirror_mode": {
    "name": "ipython",
    "version": 3
   },
   "file_extension": ".py",
   "mimetype": "text/x-python",
   "name": "python",
   "nbconvert_exporter": "python",
   "pygments_lexer": "ipython3",
   "version": "3.7.2"
  }
 },
 "nbformat": 4,
 "nbformat_minor": 2
}
