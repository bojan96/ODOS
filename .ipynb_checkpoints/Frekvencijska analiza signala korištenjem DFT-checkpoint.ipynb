{
 "cells": [
  {
   "cell_type": "markdown",
   "metadata": {},
   "source": [
    "# Vježba 6 - Frekvencijska analiza signala korištenjem DFT"
   ]
  },
  {
   "cell_type": "markdown",
   "metadata": {},
   "source": [
    "DFT je u Pythonu-u implementirana FFT algoritmom iz Numpy biblioteke. Uputstvo za korištenje funkcija <a href=\"https://docs.scipy.org/doc/numpy/reference/generated/numpy.fft.fft.html#numpy.fft.fft\">fft</a> i <a href=\"https://docs.scipy.org/doc/numpy/reference/generated/numpy.fft.ifft.html#numpy.fft.ifft\">ifft</a> je moguće pronaći u zvaničnoj Numpy dokumentaciji."
   ]
  },
  {
   "cell_type": "markdown",
   "metadata": {},
   "source": [
    "## DFT periodičnih signala"
   ]
  },
  {
   "cell_type": "markdown",
   "metadata": {},
   "source": [
    "1. Dat je diskretni signal $x(n) = cos(n \\pi / 3)$. Da li je dati signal periodičan? Ako jeste, odrediti njegov period. U Pythonu-u generisati odmjerke datog signala na jednom periodu. Nacrtati talasni oblik signala. "
   ]
  },
  {
   "cell_type": "code",
   "execution_count": 1,
   "metadata": {},
   "outputs": [],
   "source": [
    "%mat\n",
    "import numpy as np"
   ]
  },
  {
   "cell_type": "code",
   "execution_count": 2,
   "metadata": {},
   "outputs": [
    {
     "ename": "NameError",
     "evalue": "name 'cos' is not defined",
     "output_type": "error",
     "traceback": [
      "\u001b[1;31m---------------------------------------------------------------------------\u001b[0m",
      "\u001b[1;31mNameError\u001b[0m                                 Traceback (most recent call last)",
      "\u001b[1;32m<ipython-input-2-4224ed564949>\u001b[0m in \u001b[0;36m<module>\u001b[1;34m\u001b[0m\n\u001b[0;32m      2\u001b[0m \u001b[0mN\u001b[0m \u001b[1;33m=\u001b[0m \u001b[1;36m6\u001b[0m\u001b[1;33m\u001b[0m\u001b[1;33m\u001b[0m\u001b[0m\n\u001b[0;32m      3\u001b[0m \u001b[0mn\u001b[0m \u001b[1;33m=\u001b[0m \u001b[0mnp\u001b[0m\u001b[1;33m.\u001b[0m\u001b[0marange\u001b[0m\u001b[1;33m(\u001b[0m\u001b[1;36m0\u001b[0m\u001b[1;33m,\u001b[0m \u001b[0mN\u001b[0m \u001b[1;33m*\u001b[0m \u001b[1;36m3\u001b[0m\u001b[1;33m)\u001b[0m\u001b[1;33m\u001b[0m\u001b[1;33m\u001b[0m\u001b[0m\n\u001b[1;32m----> 4\u001b[1;33m \u001b[0mx\u001b[0m \u001b[1;33m=\u001b[0m \u001b[0mcos\u001b[0m\u001b[1;33m(\u001b[0m\u001b[0mnp\u001b[0m\u001b[1;33m.\u001b[0m\u001b[0mpi\u001b[0m \u001b[1;33m*\u001b[0m \u001b[0mn\u001b[0m \u001b[1;33m/\u001b[0m \u001b[1;36m3\u001b[0m\u001b[1;33m)\u001b[0m\u001b[1;33m\u001b[0m\u001b[1;33m\u001b[0m\u001b[0m\n\u001b[0m",
      "\u001b[1;31mNameError\u001b[0m: name 'cos' is not defined"
     ]
    }
   ],
   "source": [
    "### KOD\n",
    "N = 6\n",
    "n = np.arange(0, N * 3)\n",
    "x = cos(np.pi * n / 3)\n"
   ]
  },
  {
   "cell_type": "markdown",
   "metadata": {},
   "source": [
    "2. Izračunati DFT datog signala bez dopunjavanja nulama. Nacrtati moduo DFT, a na apscisi označiti indeks DFT (koristiti naredbu stem)."
   ]
  },
  {
   "cell_type": "code",
   "execution_count": 15,
   "metadata": {},
   "outputs": [],
   "source": [
    "### KOD"
   ]
  },
  {
   "cell_type": "markdown",
   "metadata": {},
   "source": [
    "3. Nacrtati amplitudni spektar diskretnog signala $x(n)$ (kontinualna funkcija, koristiti naredbu plot) tako da na apscisi bude digitalna frekvencija normalizovana tako da vrijednost 1 odgovara frekvenciji od $\\pi$ rad/odmjerku. Nacrtati dva grafika: na jednom na ordinati treba da bude moduo spektra signala, a na drugom moduo u dB."
   ]
  },
  {
   "cell_type": "code",
   "execution_count": 16,
   "metadata": {},
   "outputs": [],
   "source": [
    "### KOD"
   ]
  },
  {
   "cell_type": "markdown",
   "metadata": {},
   "source": [
    "4. Generisati odmjerke signala iz tačke 1. na tri perioda. Nacrtati njegov talasni oblik."
   ]
  },
  {
   "cell_type": "code",
   "execution_count": 17,
   "metadata": {},
   "outputs": [],
   "source": [
    "### KOD"
   ]
  },
  {
   "cell_type": "markdown",
   "metadata": {},
   "source": [
    "5. Izračunati DFT datog signala bez dopunjavanja nulama. Nacrtati moduo DFT, a na apscisi označiti indeks DFT (koristiti naredbu stem)."
   ]
  },
  {
   "cell_type": "code",
   "execution_count": 18,
   "metadata": {},
   "outputs": [],
   "source": [
    "### KOD"
   ]
  },
  {
   "cell_type": "markdown",
   "metadata": {},
   "source": [
    "6. Nacrtati amplitudni spektar diskretnog signala $x(n)$ (kontinualna funkcija, koristiti naredbu plot) tako da na apscisi bude digitalna frekvencija normalizovana tako da vrijednost 1 odgovara frekvenciji od $\\pi$ rad/odmjerku. Nacrtati dva grafika: na jednom na ordinati treba da bude moduo spektra signala, a na drugom moduo u dB. Uporediti dobijene grafike sa odgovarajućim graficima iz tačke 3. U čemu su njihove sličnosti i razlike?"
   ]
  },
  {
   "cell_type": "code",
   "execution_count": 19,
   "metadata": {},
   "outputs": [],
   "source": [
    "### KOD"
   ]
  },
  {
   "cell_type": "markdown",
   "metadata": {},
   "source": [
    "## Preklapanje u vremenskom domenu"
   ]
  },
  {
   "cell_type": "markdown",
   "metadata": {},
   "source": [
    "1. Dat je signal $x(n) = a^{n} u(n)$. Spektar ovog signala je dat sa $ X\\left(e^{j\\omega}\\right) = \\frac{\\displaystyle 1}{\\displaystyle 1 - a e^{-j\\omega}}$. Generisati odmjerke spektra dobijene odmjeravanjem u N=5 i N=50 tačaka. Nacrtati dobijene diskretizovane spektre."
   ]
  },
  {
   "cell_type": "code",
   "execution_count": 20,
   "metadata": {},
   "outputs": [],
   "source": [
    "### KOD"
   ]
  },
  {
   "cell_type": "markdown",
   "metadata": {},
   "source": [
    "2. Korištenjem funkcije ifft rekonstruisati signal na osnovu odmjeraka spektara iz prethodne tačke. Da li se javlja preklapanje u vremenskom domenu?"
   ]
  },
  {
   "cell_type": "code",
   "execution_count": 21,
   "metadata": {},
   "outputs": [],
   "source": [
    "### KOD"
   ]
  },
  {
   "cell_type": "markdown",
   "metadata": {},
   "source": [
    "## Dopunjavanje nulama"
   ]
  },
  {
   "cell_type": "markdown",
   "metadata": {},
   "source": [
    "1. Generisati pravougaoni signal\n",
    "$$\n",
    "x(n) = \\begin{cases}\n",
    "      1, & 0 \\le n \\le L-1 \\\\\n",
    "      0, & \\text{inače}\n",
    "    \\end{cases},\n",
    "$$za $L = 10$."
   ]
  },
  {
   "cell_type": "code",
   "execution_count": 22,
   "metadata": {},
   "outputs": [],
   "source": [
    "### KOD"
   ]
  },
  {
   "cell_type": "markdown",
   "metadata": {},
   "source": [
    "2. Odrediti DFT datog signala u N=50 tačaka uz dopunjavanje nulama. Nacrtati moduo DFT, a na apscisi označiti indeks DFT (koristiti naredbu stem)."
   ]
  },
  {
   "cell_type": "code",
   "execution_count": 23,
   "metadata": {},
   "outputs": [],
   "source": [
    "### KOD"
   ]
  },
  {
   "cell_type": "markdown",
   "metadata": {},
   "source": [
    "3. Nacrtati amplitudni spektar diskretnog signala $x(n)$ (kontinualna funkcija, koristiti naredbu plot) tako da na apscisi bude digitalna frekvencija normalizovana tako da vrijednost 1 odgovara frekvenciji od $\\pi$ rad/odmjerku. Nacrtati dva grafika: na jednom na ordinati treba da bude moduo spektra signala, a na drugom moduo u dB. Uporediti dobijeni grafik sa tačnim amplitudnim spektrom signala iz tačke 1."
   ]
  },
  {
   "cell_type": "code",
   "execution_count": 24,
   "metadata": {},
   "outputs": [],
   "source": [
    "### KOD"
   ]
  },
  {
   "cell_type": "markdown",
   "metadata": {},
   "source": [
    "4. Odrediti DFT datog signala u N=100 tačaka uz dopunjavanje nulama. Nacrtati moduo DFT, a na apscisi označiti indeks DFT (koristiti naredbu stem)."
   ]
  },
  {
   "cell_type": "code",
   "execution_count": 25,
   "metadata": {},
   "outputs": [],
   "source": [
    "### KOD"
   ]
  },
  {
   "cell_type": "markdown",
   "metadata": {},
   "source": [
    "5. Nacrtati amplitudni spektar diskretnog signala $x(n)$ (kontinualna funkcija, koristiti naredbu plot) tako da na apscisi bude digitalna frekvencija normalizovana tako da vrijednost 1 odgovara frekvenciji od $\\pi$ rad/odmjerku. Nacrtati dva grafika: na jednom na ordinati treba da bude moduo spektra signala, a na drugom moduo u dB. Uporediti dobijeni grafik sa tačnim amplitudnim spektrom signala iz tačke 1."
   ]
  },
  {
   "cell_type": "code",
   "execution_count": 26,
   "metadata": {},
   "outputs": [],
   "source": [
    "### KOD"
   ]
  },
  {
   "cell_type": "markdown",
   "metadata": {},
   "source": [
    "## Filtriranje signala"
   ]
  },
  {
   "cell_type": "markdown",
   "metadata": {},
   "source": [
    "1. Generisati 120 odmjeraka signal\n",
    "$$\n",
    "x(n) = cos\\left(\\frac{\\displaystyle \\pi}{2}n\\right) + cos\\left(\\frac{\\displaystyle \\pi}{3}n\\right) + cos\\left(\\frac{\\displaystyle \\pi}{4}n\\right) + cos\\left(\\frac{\\displaystyle \\pi}{6}n\\right).\n",
    "$$ Nacratati talasni oblik generisanog signala. Nacrtati amplitudni spektar signala."
   ]
  },
  {
   "cell_type": "code",
   "execution_count": 27,
   "metadata": {},
   "outputs": [],
   "source": [
    "### KOD"
   ]
  },
  {
   "cell_type": "markdown",
   "metadata": {},
   "source": [
    "2. Korištenjem funkcija <a href=\"https://docs.scipy.org/doc/scipy-0.13.0/reference/generated/scipy.signal.buttord.html#scipy.signal.buttord\">buttord</a> i <a href=\"https://docs.scipy.org/doc/scipy-0.13.0/reference/generated/scipy.signal.butter.html#scipy.signal.butter\">butter</a> projektovati digitalni filtar sa sledećim zahtjevima:\n",
    "    - granična frekvencija propusnog opsega 0.3 poluperioda/odmjerku\n",
    "    - granična frekvencija nepropusnog opsega 0.45 poluperioda/odmjerku\n",
    "    - maksimalno dozvoljeno slabljenje u propusnom opsegu 3dB\n",
    "    - minimalno dozvoljeno slabljenje u nepropusnom opsegu 80db"
   ]
  },
  {
   "cell_type": "code",
   "execution_count": 28,
   "metadata": {},
   "outputs": [],
   "source": [
    "### KOD"
   ]
  },
  {
   "cell_type": "markdown",
   "metadata": {},
   "source": [
    "3. Nacrati frekvencijsku karakteristiku ovako dobijenog filtra."
   ]
  },
  {
   "cell_type": "code",
   "execution_count": 29,
   "metadata": {},
   "outputs": [],
   "source": [
    "### KOD"
   ]
  },
  {
   "cell_type": "markdown",
   "metadata": {},
   "source": [
    "3. Filtrirati signal iz tačke 1 ovako projektovanim filtrom. Nacrati talasni oblik i amplitudni spektar dobijenog signala."
   ]
  },
  {
   "cell_type": "code",
   "execution_count": 30,
   "metadata": {},
   "outputs": [],
   "source": [
    "### KOD"
   ]
  },
  {
   "cell_type": "markdown",
   "metadata": {},
   "source": [
    "4. Korištenjem funkcija <a href=\"https://docs.scipy.org/doc/scipy/reference/generated/scipy.signal.ellipord.html#scipy.signal.ellipord\">ellipord</a> i <a href=\"https://docs.scipy.org/doc/scipy/reference/generated/scipy.signal.ellip.html#scipy.signal.ellip\">ellip</a> projektovati digitalni filtar sa sledećim zahtjevima:\n",
    "    - granična frekvencija propusnog opsega 0.3 poluperioda/odmjerku\n",
    "    - granična frekvencija nepropusnog opsega 0.45 poluperioda/odmjerku\n",
    "    - maksimalno dozvoljeno slabljenje u propusnom opsegu 3dB\n",
    "    - minimalno dozvoljeno slabljenje u nepropusnom opsegu 80db"
   ]
  },
  {
   "cell_type": "code",
   "execution_count": 31,
   "metadata": {},
   "outputs": [],
   "source": [
    "### KOD"
   ]
  },
  {
   "cell_type": "markdown",
   "metadata": {},
   "source": [
    "5. Nacrati frekvencijsku karakteristiku ovako dobijenog filtra."
   ]
  },
  {
   "cell_type": "code",
   "execution_count": 32,
   "metadata": {},
   "outputs": [],
   "source": [
    "### KOD"
   ]
  },
  {
   "cell_type": "markdown",
   "metadata": {},
   "source": [
    "6. Filtrirati signal iz tačke 1 ovako projektovanim filtrom. Nacrati talasni oblik i amplitudni spektar dobijenog signala. Komentarisati razlike u odnosu na rezultate iz tačke 3."
   ]
  },
  {
   "cell_type": "code",
   "execution_count": 33,
   "metadata": {},
   "outputs": [],
   "source": [
    "### KOD"
   ]
  },
  {
   "cell_type": "code",
   "execution_count": null,
   "metadata": {},
   "outputs": [],
   "source": []
  }
 ],
 "metadata": {
  "kernelspec": {
   "display_name": "Python 3",
   "language": "python",
   "name": "python3"
  },
  "language_info": {
   "codemirror_mode": {
    "name": "ipython",
    "version": 3
   },
   "file_extension": ".py",
   "mimetype": "text/x-python",
   "name": "python",
   "nbconvert_exporter": "python",
   "pygments_lexer": "ipython3",
   "version": "3.7.2"
  }
 },
 "nbformat": 4,
 "nbformat_minor": 2
}
