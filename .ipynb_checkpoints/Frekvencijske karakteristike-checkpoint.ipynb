{
 "cells": [
  {
   "cell_type": "markdown",
   "metadata": {},
   "source": [
    "Ranije smo vidjeli filtar koji usrednjava $M$ prethodnih odmjeraka (MA filtar). Jednačina diferencija ovog filtra je\n",
    "\n",
    "$y(n) = \\frac{1}{M} \\sum_{k=0}^{M-1} x(n-k)$.\n",
    "\n",
    "Radi se o nerekurzivnom filtru pa je i njegov impulsni odziv konačan\n",
    "\n",
    "$h(n) = \\frac{1}{M} \\sum_{k=0}^{M-1} \\delta(n-k)$."
   ]
  },
  {
   "cell_type": "code",
   "execution_count": null,
   "metadata": {},
   "outputs": [],
   "source": [
    "%matplotlib notebook\n",
    "import numpy as np\n",
    "from scipy.signal import freqz, group_delay, lfilter\n",
    "import matplotlib.pyplot as plt"
   ]
  },
  {
   "cell_type": "code",
   "execution_count": null,
   "metadata": {},
   "outputs": [],
   "source": [
    "M = 10\n",
    "h = (1/M)*np.ones(M)\n",
    "\n",
    "w, H = freqz(h, 1, worN=512, whole=True)"
   ]
  },
  {
   "cell_type": "code",
   "execution_count": null,
   "metadata": {},
   "outputs": [],
   "source": [
    "plt.rc('text', usetex=True)\n",
    "plt.figure()\n",
    "plt.subplot(211)\n",
    "plt.plot(w, np.abs(H))\n",
    "plt.ylabel(r'\\lvert H(e^{j\\omega}) \\lvert')\n",
    "plt.title('Amplitudna karakteristika')\n",
    "plt.subplot(212)\n",
    "plt.plot(w, np.angle(H))\n",
    "plt.xlabel(r'\\omega')\n",
    "plt.ylabel(r'\\phi(\\omega)')\n",
    "plt.title('Fazna karakteristika')"
   ]
  },
  {
   "cell_type": "markdown",
   "metadata": {},
   "source": [
    "Zbog simetrije, najčešće se frekvencijske karakteristike crtaju samo u intervalu [0, $\\pi$]."
   ]
  },
  {
   "cell_type": "code",
   "execution_count": null,
   "metadata": {},
   "outputs": [],
   "source": [
    "w, H = freqz(h, 1)\n",
    "\n",
    "plt.figure()\n",
    "plt.subplot(211)\n",
    "plt.plot(w, np.abs(H))\n",
    "plt.ylabel(r'\\lvert H(e^{j\\omega}) \\lvert')\n",
    "plt.title('Amplitudna karakteristika')\n",
    "plt.subplot(212)\n",
    "plt.plot(w, np.angle(H))\n",
    "plt.xlabel(r'\\omega')\n",
    "plt.ylabel(r'\\phi(\\omega)')\n",
    "plt.title('Fazna karakteristika')"
   ]
  },
  {
   "cell_type": "markdown",
   "metadata": {},
   "source": [
    "Često se amplitudna karakteristika izražava u dB. Koristi se i termin funkcija pojačanja."
   ]
  },
  {
   "cell_type": "code",
   "execution_count": null,
   "metadata": {},
   "outputs": [],
   "source": [
    "plt.figure()\n",
    "plt.plot(w, 20*np.log10(np.abs(H)))\n",
    "plt.xlabel('w')\n",
    "plt.ylabel(r'\\lvert H(e^{j\\omega}) \\lvert [dB]')\n",
    "plt.title('Amplitudna karakteristika')"
   ]
  },
  {
   "cell_type": "markdown",
   "metadata": {},
   "source": [
    "Grupno kašnjenje"
   ]
  },
  {
   "cell_type": "code",
   "execution_count": null,
   "metadata": {},
   "outputs": [],
   "source": [
    "w, gd = group_delay((h, 1))\n",
    "\n",
    "plt.figure()\n",
    "plt.plot(w, gd)\n",
    "plt.xlabel(r'\\omega')\n",
    "plt.ylabel(r'grd H(e^{j\\omega})')"
   ]
  },
  {
   "cell_type": "markdown",
   "metadata": {},
   "source": [
    "IIR filtar opisan jednačinom diferencija\n",
    "$$y(n) - \\lambda y(n-1) = (1-\\lambda) x(n).$$\n",
    "\n",
    "Funkcija prenosa je\n",
    "$$H(z) = \\frac{1-\\lambda}{1-\\lambda z^{-1}}.$$"
   ]
  },
  {
   "cell_type": "code",
   "execution_count": null,
   "metadata": {},
   "outputs": [],
   "source": [
    "lmbd = 0.9\n",
    "b = [1-lmbd]\n",
    "a = [1, -lmbd]\n",
    "\n",
    "w, H = freqz(b, a)\n",
    "\n",
    "plt.rc('text', usetex=True)\n",
    "plt.figure()\n",
    "plt.subplot(211)\n",
    "plt.plot(w/np.pi, np.abs(H))\n",
    "plt.ylabel(r'\\lvert H(e^{j\\omega}) \\lvert')\n",
    "plt.subplot(212)\n",
    "plt.plot(w/np.pi, np.angle(H))\n",
    "plt.xlabel(r'\\omega/\\pi')\n",
    "plt.ylabel(r'\\phi(\\omega)')"
   ]
  },
  {
   "cell_type": "markdown",
   "metadata": {},
   "source": [
    "Funkcija pojačanja"
   ]
  },
  {
   "cell_type": "code",
   "execution_count": null,
   "metadata": {},
   "outputs": [],
   "source": [
    "plt.figure()\n",
    "plt.plot(w, 20*np.log10(np.abs(H)))\n",
    "plt.xlabel('w')\n",
    "plt.ylabel(r'\\lvert H(e^{j\\omega}) \\lvert [dB]')\n",
    "plt.title('Amplitudna karakteristika')"
   ]
  },
  {
   "cell_type": "markdown",
   "metadata": {},
   "source": [
    "Grupno kašnjenje"
   ]
  },
  {
   "cell_type": "code",
   "execution_count": null,
   "metadata": {},
   "outputs": [],
   "source": [
    "w, gd = group_delay((b, a))\n",
    "\n",
    "plt.figure()\n",
    "plt.plot(w, gd)\n",
    "plt.xlabel(r'\\omega')\n",
    "plt.ylabel(r'grd H(e^{j\\omega})')"
   ]
  },
  {
   "cell_type": "markdown",
   "metadata": {},
   "source": [
    "Primjer filtriranja\n",
    "$$x(n) = 10 - 5 \\sin(\\frac{\\pi}{2} n) + 20 \\cos(\\pi n), \\; -\\infty < n < \\infty.$$"
   ]
  },
  {
   "cell_type": "code",
   "execution_count": null,
   "metadata": {},
   "outputs": [],
   "source": [
    "n = np.arange(100)\n",
    "x = 10 - 5*np.cos(np.pi/2 * n) + 20*np.cos(np.pi * n)\n",
    "y = lfilter(b, a, x)\n",
    "\n",
    "plt.figure()\n",
    "plt.subplot(211)\n",
    "plt.stem(n, x)\n",
    "plt.ylabel('x(n)')\n",
    "plt.subplot(212)\n",
    "plt.stem(n, y)\n",
    "plt.xlabel('n')\n",
    "plt.ylabel('y(n)')"
   ]
  },
  {
   "cell_type": "code",
   "execution_count": null,
   "metadata": {},
   "outputs": [],
   "source": []
  }
 ],
 "metadata": {
  "kernelspec": {
   "display_name": "Python 3",
   "language": "python",
   "name": "python3"
  },
  "language_info": {
   "codemirror_mode": {
    "name": "ipython",
    "version": 3
   },
   "file_extension": ".py",
   "mimetype": "text/x-python",
   "name": "python",
   "nbconvert_exporter": "python",
   "pygments_lexer": "ipython3",
   "version": "3.7.2"
  }
 },
 "nbformat": 4,
 "nbformat_minor": 2
}
