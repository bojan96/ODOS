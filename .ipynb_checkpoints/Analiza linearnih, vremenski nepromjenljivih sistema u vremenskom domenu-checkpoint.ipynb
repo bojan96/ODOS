{
 "cells": [
  {
   "cell_type": "markdown",
   "metadata": {},
   "source": [
    "# Vježba 4 - Analiza linearnih, vremenski nepromjenljivih sistema u vremenskom domenu"
   ]
  },
  {
   "cell_type": "markdown",
   "metadata": {},
   "source": [
    "Veza između ulaznog i izlaznog niza linearnog, vremenski nepromjenljivog sistema određena je linearnom jednačinom diferencija sa konstantnim koeficijentima. U opštem slučaju ova jednačina ima sledeći oblik:\n",
    "$$\n",
    "\\sum_{k = 0}^{N}{a_{k} y(n - k)} = \\sum_{l = 0}^{M}{b_{l} x(n - l)}\n",
    "$$\n",
    "U Python-u jednačina diferencija se može predstaviti korištenjem dva vektora: jedan vektor sadrži koeficijente u direktnoj sprezi $b_l$, a drugi koeficijente u povratnoj sprezi $a_k$. Obično se smatra da je koeficijent $a_{0} \\ne 0$ pa se može pisati:\n",
    "$$\n",
    "y(n) = -\\frac{1}{a_0}\\left(\\sum_{k = 1}^{N}{a_{k} y(n - k)} + \\sum_{l = 0}^{M}{b_{l} x(n - l)}\\right)\n",
    "$$"
   ]
  },
  {
   "cell_type": "markdown",
   "metadata": {},
   "source": [
    "## Zadaci"
   ]
  },
  {
   "cell_type": "markdown",
   "metadata": {},
   "source": [
    "1. Napisati u Python-u funkciju koja vrši računanje odziva diskretnog sistema opisanog koeficijentima $b$ i $a$ za proizvoljan ulaz $x$. Izlaz iz filtra treba da bude istih dimenzija kao i ulazni signal."
   ]
  },
  {
   "cell_type": "code",
   "execution_count": 7,
   "metadata": {},
   "outputs": [],
   "source": [
    "%matplotlib notebook\n",
    "import numpy as np\n",
    "import matplotlib.pyplot as pyplot\n",
    "\n",
    "def filt(b, a, x):\n",
    "    y = np.empty(x.size)\n",
    "    yOld = np.zeros(a.size - 1)\n",
    "    \n",
    "    for n in range(y.size):\n",
    "        toTake = min(n + 1, x.size, b.size)\n",
    "        takeFrom = 0 if n + 1 <= x.size else \n",
    "        xSum = np.dot(b[0: toTake], x[:-1 - toTake:-1])\n",
    "        ySum = \n",
    "filt(np.array([1,2,3]), np.array([1]), np.array([1, 2, 3, 4, 5]))\n"
   ]
  },
  {
   "cell_type": "markdown",
   "metadata": {},
   "source": [
    "2. Korištenjem funkcije napisane u prethodnoj tački odrediti impulsni odziv mreže opisane jednačinom diferencija:\n",
    "$$\n",
    "y(n) - \\frac{5}{6}y(n-1)+\\frac{1}{6}y(n-2) = x(n)\n",
    "$$\n",
    "Impulsni odziv nacrtati na intervalu $-10 \\le n \\le 100$."
   ]
  },
  {
   "cell_type": "code",
   "execution_count": 2,
   "metadata": {},
   "outputs": [],
   "source": [
    "### KOD"
   ]
  },
  {
   "cell_type": "markdown",
   "metadata": {},
   "source": [
    "3. Učitati zvučni signal u fajlu handel_mono_11025.wav. Propustiti ovaj signal kroz filtar implementiran u prethodnoj tački sa koeficijentima:\n",
    "$$a. b_0=0.0572, b_1=0.1144, b_2=0.0572; a_0 = 1, a_1= -1.2189, a_2=0.4477 \\\\\n",
    "b. b_0=0.6666, b_1=-1.3333, b_2= 0.6666; a_0 = 1, a_1= -1.2189, a_2=0.4477 \\\\\n",
    "c. b_0=0.2625, b_1=0, b_2= -0.2625; a_0 = 1, a_1=-1.0932, a_2=0.4750\n",
    "$$\n",
    "Prikazati i poslušati originalni i rezultujuće signale. Komentarisati razlike."
   ]
  },
  {
   "cell_type": "code",
   "execution_count": null,
   "metadata": {},
   "outputs": [],
   "source": [
    "### KOD"
   ]
  }
 ],
 "metadata": {
  "kernelspec": {
   "display_name": "Python 3",
   "language": "python",
   "name": "python3"
  },
  "language_info": {
   "codemirror_mode": {
    "name": "ipython",
    "version": 3
   },
   "file_extension": ".py",
   "mimetype": "text/x-python",
   "name": "python",
   "nbconvert_exporter": "python",
   "pygments_lexer": "ipython3",
   "version": "3.7.2"
  }
 },
 "nbformat": 4,
 "nbformat_minor": 2
}
