{
 "cells": [
  {
   "cell_type": "markdown",
   "metadata": {},
   "source": [
    "# Frekvencijske karakteristike sistema"
   ]
  },
  {
   "cell_type": "markdown",
   "metadata": {},
   "source": [
    "Jedan od načina zadavanja digitalnih sistema, odnosno, filtara u Python-u je pomoću njihove funkcije prenosa. Poznato je da funkcija prenosa linearnih vremenski nepromjenljivih sistema ima oblik racionalne funkcije. Dakle, moguće je memorisati dva polinoma, b i a, koji predstavljaju brojnik i nazivnik funkcije prenosa. Za određivanje frekvencijske karakteristike filtra koristi se funkcija <a href=\"https://docs.scipy.org/doc/scipy/reference/generated/scipy.signal.freqz.html\">freqz</a>."
   ]
  },
  {
   "cell_type": "markdown",
   "metadata": {},
   "source": [
    "## Zadaci"
   ]
  },
  {
   "cell_type": "markdown",
   "metadata": {},
   "source": [
    "1. Dat je linearan vremenski nepromjenljiv sistem opisan jednačinom diferencija\n",
    "$$\n",
    "y(n)-\\frac{1}{2}y(n-1) = x(n)\n",
    "$$\n",
    "Nacrtati amplitudnu i faznu karakteristiku ovog sistema."
   ]
  },
  {
   "cell_type": "code",
   "execution_count": 1,
   "metadata": {},
   "outputs": [],
   "source": [
    "### KOD\n",
    "\n"
   ]
  },
  {
   "cell_type": "markdown",
   "metadata": {},
   "source": [
    "2. Generisati i nacrtati realni i imaginarni dio odziva na signal $x(n) = e^{-jn \\pi / 2}u(n)$. Prikazati dovoljno dugo trajanje odziva tako da prelazni režim nestane. Odredite vrijednost kompleksne amplitude izlaznog signala za $n \\rightarrow \\infty$."
   ]
  },
  {
   "cell_type": "code",
   "execution_count": 2,
   "metadata": {},
   "outputs": [],
   "source": [
    "###KOD"
   ]
  },
  {
   "cell_type": "markdown",
   "metadata": {},
   "source": [
    "3. Generisati i nacrtati realni i imaginarni dio odziva na signal $x(n) = e^{-jn\\pi}u(n)$. Prikazati dovoljno dugo trajanje odziva tako da prelazni režim nestane. Odredite vrijednost kompleksne amplitude izlaznog signala za $n \\rightarrow \\infty$."
   ]
  },
  {
   "cell_type": "code",
   "execution_count": 3,
   "metadata": {},
   "outputs": [],
   "source": [
    "###KOD"
   ]
  },
  {
   "cell_type": "markdown",
   "metadata": {},
   "source": [
    "4. Generisati i nacrtati odziv na signal $x(n) = 10 - 5 sin(\\frac{\\pi}{2} n) +20 cos(\\pi n)$. Prikazati dovoljno dugo trajanje odziva tako da prelazni režim nestane. Odrediti vrijednost amplitude izlaznog signala za $n \\rightarrow \\infty$."
   ]
  },
  {
   "cell_type": "code",
   "execution_count": 4,
   "metadata": {},
   "outputs": [],
   "source": [
    "###KOD"
   ]
  },
  {
   "cell_type": "markdown",
   "metadata": {},
   "source": [
    "5. Dat je digitalni filtar prikazan blok šemom\n",
    "<img src=\"images/lab1.png\" />\n",
    "Nacrtati amplitudnu i faznu karakteristiku filtra za vrijednosti $\\omega_0$ od $0, \\pi/4, \\pi/3, \\pi/2, \\pi$? Komentarisati. Kakvi tipovi filtara se dobijaju?"
   ]
  },
  {
   "cell_type": "code",
   "execution_count": 5,
   "metadata": {},
   "outputs": [],
   "source": [
    "###KOD"
   ]
  },
  {
   "cell_type": "markdown",
   "metadata": {},
   "source": [
    "6. Za $\\omega_{0} = \\pi/2$ geneisati i nacrtati odziv na signal $x(n) = 3cos\\left(\\frac{\\pi}{3}n+\\frac{\\pi}{6}\\right)$.Prikazati dovoljno dugo trajanje odziva tako da prelazni režim nestane. Odrediti vrijednost amplitude izlaznog signala za $n \\rightarrow \\infty$."
   ]
  },
  {
   "cell_type": "code",
   "execution_count": 6,
   "metadata": {},
   "outputs": [],
   "source": [
    "###KOD"
   ]
  },
  {
   "cell_type": "markdown",
   "metadata": {},
   "source": [
    "7. Učitati u radni prostor fajl <i>sm.wav</i> i reprodukovati ga."
   ]
  },
  {
   "cell_type": "code",
   "execution_count": 7,
   "metadata": {},
   "outputs": [],
   "source": [
    "###KOD"
   ]
  },
  {
   "cell_type": "markdown",
   "metadata": {},
   "source": [
    "8. Ukoliko smo zainteresovani samo za izdvajanje dijela signala koji sadrži bas onda je to moguće uraditi korištenjem niskopropusnog filtra. Koeficijenti niskopropusnog filtra granične frekvencije 200Hz su definisani u narednoj ćeliji. Korištenjem datih koeficijenata nacrtati amplitudsku i faznu karakteristiku filtra, a zatim filtrirati zvučni signal iz prethodne tačke i reprodukovati rezultat."
   ]
  },
  {
   "cell_type": "code",
   "execution_count": 9,
   "metadata": {},
   "outputs": [
    {
     "ename": "NameError",
     "evalue": "name 'FS' is not defined",
     "output_type": "error",
     "traceback": [
      "\u001b[1;31m---------------------------------------------------------------------------\u001b[0m",
      "\u001b[1;31mNameError\u001b[0m                                 Traceback (most recent call last)",
      "\u001b[1;32m<ipython-input-9-c73493d28bd0>\u001b[0m in \u001b[0;36m<module>\u001b[1;34m\u001b[0m\n\u001b[0;32m      1\u001b[0m \u001b[0mfc\u001b[0m \u001b[1;33m=\u001b[0m \u001b[1;36m200.0\u001b[0m\u001b[1;33m\u001b[0m\u001b[1;33m\u001b[0m\u001b[0m\n\u001b[1;32m----> 2\u001b[1;33m \u001b[0mwc\u001b[0m \u001b[1;33m=\u001b[0m \u001b[0mfc\u001b[0m \u001b[1;33m/\u001b[0m \u001b[1;33m(\u001b[0m\u001b[0mFS\u001b[0m\u001b[1;33m/\u001b[0m\u001b[1;36m2\u001b[0m\u001b[1;33m)\u001b[0m  \u001b[1;31m#Promjenljiva FS treba da sadrži frekvenciju odmjeravanja ulaznog signala\u001b[0m\u001b[1;33m\u001b[0m\u001b[1;33m\u001b[0m\u001b[0m\n\u001b[0m\u001b[0;32m      3\u001b[0m \u001b[0mb\u001b[0m\u001b[1;33m,\u001b[0m \u001b[0ma\u001b[0m \u001b[1;33m=\u001b[0m \u001b[0msignal\u001b[0m\u001b[1;33m.\u001b[0m\u001b[0mbutter\u001b[0m\u001b[1;33m(\u001b[0m\u001b[1;36m6\u001b[0m\u001b[1;33m,\u001b[0m \u001b[0mwc\u001b[0m\u001b[1;33m)\u001b[0m\u001b[1;33m\u001b[0m\u001b[1;33m\u001b[0m\u001b[0m\n",
      "\u001b[1;31mNameError\u001b[0m: name 'FS' is not defined"
     ]
    }
   ],
   "source": [
    "fc = 200.0\n",
    "wc = fc / (FS/2)  #Promjenljiva FS treba da sadrži frekvenciju odmjeravanja ulaznog signala\n",
    "b, a = signal.butter(6, wc)"
   ]
  },
  {
   "cell_type": "code",
   "execution_count": null,
   "metadata": {},
   "outputs": [],
   "source": [
    "###KOD"
   ]
  },
  {
   "cell_type": "markdown",
   "metadata": {},
   "source": [
    "9. Za razultat dobijen u prethodnoj tački korišten je IIR filtar. U narednoj ćeliji su definisani koeficijenti FIR niskopropusnog filtra. Korištenjem datih koeficijenata nacrtati amplitudsku i faznu karakteristiku filtra, a zatim filtrirati zvučni signal iz tačke 8. i reprodukovati rezultat."
   ]
  },
  {
   "cell_type": "code",
   "execution_count": null,
   "metadata": {},
   "outputs": [],
   "source": [
    "tb = 100\n",
    "M = 1200\n",
    "h = signal.remez(M, [0, fc, fc+tb, SF/2], [1, 0], [1, 1], Hz=FS, maxiter=50)"
   ]
  },
  {
   "cell_type": "code",
   "execution_count": null,
   "metadata": {},
   "outputs": [],
   "source": [
    "###KOD"
   ]
  },
  {
   "cell_type": "markdown",
   "metadata": {},
   "source": [
    "10. U narednoj ćeliji su dati koeficijenti FIR visokopropusnog filtra granične frekvencije 4kHz. Korištenjem datih koeficijenata nacrtati amplitudsku i faznu karakteristiku filtra, a zatim filtrirati zvučni signal iz tačke 8. i reprodukovati rezultat."
   ]
  },
  {
   "cell_type": "code",
   "execution_count": null,
   "metadata": {},
   "outputs": [],
   "source": [
    "fh = 4000\n",
    "M = 1601\n",
    "hh = signal.remez(M, [0, fh - tb, fh, SF/2], [0, 1], [10, 1], Hz=FS, maxiter=50)"
   ]
  },
  {
   "cell_type": "code",
   "execution_count": null,
   "metadata": {},
   "outputs": [],
   "source": [
    "###KOD"
   ]
  }
 ],
 "metadata": {
  "kernelspec": {
   "display_name": "Python 3",
   "language": "python",
   "name": "python3"
  },
  "language_info": {
   "codemirror_mode": {
    "name": "ipython",
    "version": 3
   },
   "file_extension": ".py",
   "mimetype": "text/x-python",
   "name": "python",
   "nbconvert_exporter": "python",
   "pygments_lexer": "ipython3",
   "version": "3.7.2"
  }
 },
 "nbformat": 4,
 "nbformat_minor": 2
}
