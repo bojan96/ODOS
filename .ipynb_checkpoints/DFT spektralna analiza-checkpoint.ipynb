{
 "cells": [
  {
   "cell_type": "code",
   "execution_count": null,
   "metadata": {},
   "outputs": [],
   "source": [
    "%matplotlib notebook\n",
    "import numpy as np\n",
    "from scipy import fftpack\n",
    "from scipy.special import diric\n",
    "import matplotlib.pyplot as plt"
   ]
  },
  {
   "cell_type": "markdown",
   "metadata": {},
   "source": [
    "Posmatramo diskretni signal\n",
    "$$x(n) = \\cos \\omega_0 n$$\n",
    "za $\\omega_0 = \\frac{\\pi}{5}$. Generisaćemo $L = 16$ odmjeraka ovog signala."
   ]
  },
  {
   "cell_type": "code",
   "execution_count": null,
   "metadata": {},
   "outputs": [],
   "source": [
    "L = 16\n",
    "w0 = np.pi/5\n",
    "\n",
    "n = np.arange(L)\n",
    "x = np.cos(w0*n)"
   ]
  },
  {
   "cell_type": "markdown",
   "metadata": {},
   "source": [
    "Nacrtaćemo signal:"
   ]
  },
  {
   "cell_type": "code",
   "execution_count": null,
   "metadata": {},
   "outputs": [],
   "source": [
    "plt.figure()\n",
    "plt.stem(n, x)\n",
    "plt.xlabel('$n$')\n",
    "plt.ylabel('$x(n)$')"
   ]
  },
  {
   "cell_type": "markdown",
   "metadata": {},
   "source": [
    "Izračunaćemo DFT signala u $N = 16$ tačaka."
   ]
  },
  {
   "cell_type": "code",
   "execution_count": null,
   "metadata": {},
   "outputs": [],
   "source": [
    "N = 16\n",
    "X = fftpack.fft(x, N)"
   ]
  },
  {
   "cell_type": "markdown",
   "metadata": {},
   "source": [
    "Nacrtaćemo odmjerke DFT. Na apscisi ćemo označiti digitalnu frekvenciju. Odmjerci DFT se nalaze na frekvencijama oblika $\\omega_k = \\frac{2 \\pi}{N} k$, za $k = 0, 1, \\ldots, N-1$. Generisaćemo niz u kojem se nalaze vrijednosti frekvencija izračunate datim jednačinama.\n",
    "\n",
    "Radi preglednosti ćemo vrijednosti na apscisi normalizovati sa $\\pi$."
   ]
  },
  {
   "cell_type": "code",
   "execution_count": null,
   "metadata": {},
   "outputs": [],
   "source": [
    "k = np.arange(N)\n",
    "wk = 2*np.pi*k/N\n",
    "\n",
    "plt.figure()\n",
    "plt.stem(wk/np.pi, np.abs(X), 'r', markerfmt='ro')\n",
    "plt.xlabel(r'$\\omega/\\pi$')\n",
    "plt.ylabel(r'$|X(\\omega)|$')"
   ]
  },
  {
   "cell_type": "markdown",
   "metadata": {},
   "source": [
    "Koeficijenti DFT uzorka sinusoide konačnog trajanja su, u stvari, odmjerci DTFT signala\n",
    "$$\\hat{x}(n) = x(n) p_L(n),$$\n",
    "gdje je $p_L(n)$ pravougaona prozorska funkcija. \n",
    "\n",
    "DTFT signala $\\hat{x}(n)$ je\n",
    "$$\\hat{X} \\left( e^{j \\omega} \\right) = \\frac{1}{2} \\left[ P_L \\left( e^{j \\left(\\omega-\\omega_0 \\right)} \\right) + P_L \\left( e^{j \\left( \\omega+\\omega_0 \\right) } \\right) \\right],$$\n",
    "gdje je\n",
    "$$P_L \\left( e^{j \\omega} \\right) = \\frac{\\sin \\frac{\\omega L}{2}}{\\sin \\frac{\\omega}{2}} e^{-j \\frac{L-1}{2} \\omega}.$$"
   ]
  },
  {
   "cell_type": "code",
   "execution_count": null,
   "metadata": {},
   "outputs": [],
   "source": [
    "w = np.linspace(0, 2*np.pi, 1001)\n",
    "Xdtft = 0.5*L*diric(w-w0, L)*np.exp(-1j*(w-w0)*(L-1)/2) + 0.5*L*diric(w+w0, L)*np.exp(-1j*(w+w0)*(L-1)/2)\n",
    "plt.plot(w/np.pi, np.abs(Xdtft))"
   ]
  },
  {
   "cell_type": "markdown",
   "metadata": {},
   "source": [
    "Frekvencija $\\omega_0$ nije jednaka ni jednoj od frekvencija na kojima se računa DFT pa su za reprezentaciju signala $x(n)$ potrebne sve bazne funkcije za $N=16$. Ova pojava se naziva _curenje spektra_.\n",
    "\n",
    "Analiza u frekvencijskom domenu nam daje bolji uvid u ovu pojavu. Računanjem DFT signala $\\hat{x}(n)$ konačnog trajanja je ekvivalentno odmjeravanju u frekvenciji njegovog spektra. Pošto je signal $\\hat{x}(n)$ jednak proizvodu pravougaone prozorske funkcije $p_L(n)$ i sinusoide frekvencije $\\omega_0$ onda je njegov spektar jednak zbiru spektara pravougaone prozorske funkcije pomjerenih u $\\omega=\\omega_0$ i $\\omega=-\\omega_0$.\n",
    "\n",
    "Tačnost estimacije frekvencije sinusoide zavisi od odstupanja tačne frekvencije od frekvencija odmjeraka DFT $\\omega_k$."
   ]
  },
  {
   "cell_type": "code",
   "execution_count": null,
   "metadata": {},
   "outputs": [],
   "source": [
    "idx = np.argmax(np.abs(X))\n",
    "print('Estimirana frekvencija sinusoide je: {:0.4f}$\\pi$.'.format(wk[idx]/np.pi))"
   ]
  },
  {
   "cell_type": "markdown",
   "metadata": {},
   "source": [
    "Bolju predstavu o izgledu spektra možemo dobiti gušćim odmjeravanjem DTFT uz dopunjavanje nulama. Probajmo sa odmjeravanjem u $N=128$ tačaka"
   ]
  },
  {
   "cell_type": "code",
   "execution_count": null,
   "metadata": {},
   "outputs": [],
   "source": [
    "N = 128\n",
    "X = fftpack.fft(x, N)\n",
    "\n",
    "k = np.arange(N)\n",
    "wk = 2*np.pi*k/N\n",
    "\n",
    "plt.figure()\n",
    "plt.stem(wk/np.pi, np.abs(X), 'r')\n",
    "plt.plot(w/np.pi, np.abs(Xdtft))\n",
    "plt.xlabel('$\\omega/\\pi$')\n",
    "plt.ylabel('$|X(\\omega)$|')"
   ]
  },
  {
   "cell_type": "markdown",
   "metadata": {},
   "source": [
    "U stvari, ako odmjeravamo u velikom broju tačaka, crtanjem pomoću `plot` možemo dobiti pristojnu aproksimaciju spektra. Dalje povećanje broja tačaka bi dodatno poboljšalo aproksimaciju. Razlog za ovo je što se interplaciona funkcija $P_L \\left( e^{j \\omega} \\right)$ za male vrijednosti $\\omega$ može aproksimirati linearnom funkcijom."
   ]
  },
  {
   "cell_type": "code",
   "execution_count": null,
   "metadata": {},
   "outputs": [],
   "source": [
    "plt.figure()\n",
    "plt.plot(wk/np.pi, np.abs(X))\n",
    "plt.xlabel('$\\omega/\\pi$')\n",
    "plt.ylabel('$|X(\\omega)$|')"
   ]
  },
  {
   "cell_type": "markdown",
   "metadata": {},
   "source": [
    "Zbog gušćeg odmjeravanja i tačnost estimacije frekvencije je bolja:"
   ]
  },
  {
   "cell_type": "code",
   "execution_count": null,
   "metadata": {},
   "outputs": [],
   "source": [
    "idx = np.argmax(np.abs(X))\n",
    "print('Estimirana frekvencija sinusoide je: {:0.4f}$\\pi$.'.format(wk[idx]/np.pi))"
   ]
  },
  {
   "cell_type": "markdown",
   "metadata": {},
   "source": [
    "Dopunjavanje nulama pomaže da se dobije bolja predstava o izgledu spektra. Međutim, možemo primjetiti da dopunjavanje nulama ne pomaže da se ublaže efekti curenja spektra. Curenje spektra je, jednostavno, posljedica posmatranja uzorka signala konačnog trajanja.\n",
    "\n",
    "Da bismo dobili dodatni uvid u curenje spektra posmatrajmo periodično proširenje signala $x(n)$. Kao što znamo, DFT implicitno smatra da je signal periodičan sa periodom jednakim dužini uzorka signala (u našem slučaju $L$)."
   ]
  },
  {
   "cell_type": "code",
   "execution_count": null,
   "metadata": {},
   "outputs": [],
   "source": [
    "xper = np.concatenate((x, x, x))\n",
    "nn = np.arange(-L, 2*L)\n",
    "\n",
    "plt.figure()\n",
    "plt.stem(nn, xper)\n",
    "plt.xlabel('$n$')\n",
    "plt.ylabel('$\\tilde{x}^L(n)$')"
   ]
  },
  {
   "cell_type": "markdown",
   "metadata": {},
   "source": [
    "Vidimo da ovaj signal nije prostoperiodičan već da na početku svakog novog perioda signal skokovito mijenja vrijednost. Ta skokovita promjena unosi visokofrekventni sadržaj u spektar signala."
   ]
  },
  {
   "cell_type": "markdown",
   "metadata": {},
   "source": [
    "U nekim situacijama se curenje spektra neće pojaviti. Posmatrajmo slučaj kada je frekvencija sinusoide jednaka $\\omega_0 = \\frac{\\pi}{8}$ i dužina uzorka $L = 32$."
   ]
  },
  {
   "cell_type": "code",
   "execution_count": null,
   "metadata": {},
   "outputs": [],
   "source": [
    "L = 32\n",
    "w0 = np.pi/8\n",
    "\n",
    "n = np.arange(L)\n",
    "x = np.cos(w0*n)"
   ]
  },
  {
   "cell_type": "code",
   "execution_count": null,
   "metadata": {},
   "outputs": [],
   "source": [
    "N = 32\n",
    "X = fftpack.fft(x, N)\n",
    "\n",
    "k = np.arange(N)\n",
    "wk = 2*np.pi*k/N\n",
    "\n",
    "plt.figure()\n",
    "plt.stem(wk/np.pi, np.abs(X), 'r', markerfmt='ro')\n",
    "plt.xlabel('$\\omega/\\pi$')\n",
    "plt.ylabel('$|X(\\omega)|$')"
   ]
  },
  {
   "cell_type": "code",
   "execution_count": null,
   "metadata": {},
   "outputs": [],
   "source": [
    "w = np.linspace(0, 2*np.pi, 1001)\n",
    "Xdtft = 0.5*L*diric(w-w0, L)*np.exp(-1j*(L-1)*(w-w0)/2) + 0.5*L*diric(w+w0, L)*np.exp(-1j*(L-1)*(w+w0)/2)\n",
    "\n",
    "plt.plot(w/np.pi, np.abs(Xdtft))"
   ]
  },
  {
   "cell_type": "markdown",
   "metadata": {},
   "source": [
    "Curenje spektra se nije pojavilo zato što je signal prostoperiodičan, dužina uzorka je jednaka cjelobrojnom umnošku perioda signala i ne koristi se dopunjavanje nulama.\n",
    "\n",
    "Pogledajmo periodično proširenje u ovom slučaju"
   ]
  },
  {
   "cell_type": "code",
   "execution_count": null,
   "metadata": {},
   "outputs": [],
   "source": [
    "xper = np.concatenate((x, x, x))\n",
    "nn = np.arange(-L, 2*L)\n",
    "\n",
    "plt.figure()\n",
    "plt.stem(nn, xper)\n",
    "plt.xlabel('$n$')\n",
    "plt.ylabel('$\\tilde{x}^L(n)$')"
   ]
  },
  {
   "cell_type": "markdown",
   "metadata": {},
   "source": [
    "Periodično proširen signal je prostoperiodičan sa frekvencijom $\\omega_0 = \\frac{\\pi}{8}$.\n",
    "\n",
    "Međutim, dopunjavanje nulama bi ponovo rezultovalo curenjem spektra."
   ]
  },
  {
   "cell_type": "code",
   "execution_count": null,
   "metadata": {
    "scrolled": false
   },
   "outputs": [],
   "source": [
    "N = 256\n",
    "X = fftpack.fft(x, N)\n",
    "\n",
    "k = np.arange(N)\n",
    "wk = 2*np.pi*k/N\n",
    "\n",
    "plt.figure()\n",
    "plt.plot(wk/np.pi, np.abs(X))\n",
    "plt.xlabel('$\\omega/\\pi$')\n",
    "plt.ylabel('$|X(\\omega)|$')"
   ]
  },
  {
   "cell_type": "markdown",
   "metadata": {},
   "source": [
    "Međutim, pošto je frekvencija signala koji analiziramo upravo veličina koju nastojimo da odredimo spektralnom analizom signala, u praktičnim situacijama je nemoguće izabrati dužinu uzorka i broj tačaka DFT tako da se izbjegne curenje spektra, a dopunjavanje nulama može biti korisno za dobijanje bolje aproksimacije spektra ukoliko je uzorak signala kratak."
   ]
  },
  {
   "cell_type": "markdown",
   "metadata": {},
   "source": [
    "Curenje spektra se ogleda u pojavi bočnih lukova u spektru rezultujućeg signala. Bočni lukovi u spektru rezultujućeg signala su posljedica postojanja bočnih lukova prozorske funkcije. Pravougaona prozorska funkcija ima izražene bočne lukove."
   ]
  },
  {
   "cell_type": "code",
   "execution_count": null,
   "metadata": {
    "scrolled": false
   },
   "outputs": [],
   "source": [
    "from scipy.signal import windows\n",
    "\n",
    "L = 16\n",
    "wrec = windows.boxcar(L)\n",
    "N = 512\n",
    "Wrec = fftpack.fft(wrec, N)\n",
    "k = np.arange(N)\n",
    "wk = 2*np.pi*k/N\n",
    "\n",
    "plt.figure()\n",
    "plt.plot(wk/np.pi, np.abs(Wrec))\n",
    "plt.xlabel('$\\omega/\\pi$')\n",
    "plt.ylabel('$|W(\\omega)|$')"
   ]
  },
  {
   "cell_type": "markdown",
   "metadata": {},
   "source": [
    "U decibelima"
   ]
  },
  {
   "cell_type": "code",
   "execution_count": null,
   "metadata": {},
   "outputs": [],
   "source": [
    "plt.figure()\n",
    "plt.plot(wk/np.pi, 20*np.log10(np.abs(Wrec)/np.abs(Wrec[0])))\n",
    "plt.xlabel('$\\omega/\\pi$')\n",
    "plt.ylabel('$|A(\\omega)| [dB]$')"
   ]
  },
  {
   "cell_type": "markdown",
   "metadata": {},
   "source": [
    "Slabljenje bočnih lukova je oko 13 dB.\n",
    "\n",
    "Kada smo govorili o metodi prozorskih funkcija za projektovanje FIR filtara pomenuli smo da druge prozorske funkcije imaju manje izražene bočne lukove."
   ]
  },
  {
   "cell_type": "markdown",
   "metadata": {},
   "source": [
    "Na primjer, Hanova prozorska funkcija je obllika\n",
    "$$w(n) = \\left\\{ \\begin{array}{ll}\n",
    "\\frac{1}{2}\\left(1 - \\cos \\frac{2 \\pi}{L-1} n \\right), & 0 \\leq n \\leq L-1 \\\\\n",
    "0, & \\text{inače}\n",
    "\\end{array} \\right.$$"
   ]
  },
  {
   "cell_type": "code",
   "execution_count": null,
   "metadata": {},
   "outputs": [],
   "source": [
    "whann = windows.hann(L)\n",
    "n = np.arange(L)\n",
    "\n",
    "plt.figure()\n",
    "plt.stem(n, whann)\n",
    "plt.xlabel('$n$')"
   ]
  },
  {
   "cell_type": "code",
   "execution_count": null,
   "metadata": {},
   "outputs": [],
   "source": [
    "Whann = fftpack.fft(whann, N)\n",
    "\n",
    "plt.figure()\n",
    "plt.plot(wk, 20*np.log10(np.abs(Whann)/np.abs(Whann[0])))\n",
    "plt.xlabel('$\\omega/\\pi$')\n",
    "plt.ylabel('$|A(\\omega)|$')"
   ]
  },
  {
   "cell_type": "markdown",
   "metadata": {},
   "source": [
    "Vidimo da je kod Hanove prozorske funkcije slabljenje bočnog luka 31 dB."
   ]
  },
  {
   "cell_type": "markdown",
   "metadata": {},
   "source": [
    "Primijenićemo Hanovu prozorsku funkciju na signal sa početka. FFT računamo uz dopunjavanje nulama i crtamo pomoću `plot`."
   ]
  },
  {
   "cell_type": "code",
   "execution_count": null,
   "metadata": {
    "scrolled": false
   },
   "outputs": [],
   "source": [
    "L = 16\n",
    "w0 = np.pi/5\n",
    "\n",
    "n = np.arange(L)\n",
    "x = np.cos(w0*n) * windows.hann(L)\n",
    "\n",
    "N = 128\n",
    "X = fftpack.fft(x, N)\n",
    "\n",
    "k = np.arange(N)\n",
    "wk = 2*np.pi*k/N\n",
    "\n",
    "plt.figure()\n",
    "plt.plot(wk/np.pi, np.abs(X))\n",
    "plt.xlabel('$\\omega/\\pi$')\n",
    "plt.ylabel('$|X(\\omega)|$')"
   ]
  },
  {
   "cell_type": "markdown",
   "metadata": {},
   "source": [
    "Vidimo da su sada bočni lukovi, a time i curenje spektra znatno manje izraženi."
   ]
  },
  {
   "cell_type": "markdown",
   "metadata": {},
   "source": [
    "Posmatrajmo sada složeni signal\n",
    "$$x(n) = \\cos \\omega_1 n + \\cos \\omega_2 n.$$\n",
    "Neka su $\\omega_1 = 0,2 \\pi$ i $\\omega_2 = 0,22 \\pi$. Generisaćemo $L=32$ odmjerka signala i računaćemo DFT u $N=512$ tačaka."
   ]
  },
  {
   "cell_type": "code",
   "execution_count": null,
   "metadata": {},
   "outputs": [],
   "source": [
    "L = 32\n",
    "w1 = 0.2*np.pi\n",
    "w2 = 0.22*np.pi\n",
    "\n",
    "n = np.arange(L)\n",
    "x = np.cos(w1*n) + np.cos(w2*n)\n",
    "\n",
    "N = 512\n",
    "X = fftpack.fft(x, N)\n",
    "\n",
    "k = np.arange(N)\n",
    "wk = 2*np.pi*k/N\n",
    "\n",
    "plt.figure()\n",
    "plt.plot(wk/np.pi, np.abs(X))\n",
    "plt.xlabel('$\\omega/\\pi$')\n",
    "plt.ylabel('$|X(\\omega)|$')"
   ]
  },
  {
   "cell_type": "markdown",
   "metadata": {},
   "source": [
    "U rezultujućem spektru ne vidimo doprinos obje sinusoide. Šta se desilo?"
   ]
  },
  {
   "cell_type": "markdown",
   "metadata": {},
   "source": [
    "Nacrtaćemo pojedinačno DFT svake komponente na istom grafiku."
   ]
  },
  {
   "cell_type": "code",
   "execution_count": null,
   "metadata": {},
   "outputs": [],
   "source": [
    "L = 32\n",
    "w1 = 0.2*np.pi\n",
    "w2 = 0.22*np.pi\n",
    "\n",
    "n = np.arange(L)\n",
    "x1 = np.cos(w1*n) \n",
    "x2 = np.cos(w2*n)\n",
    "\n",
    "N = 512\n",
    "X1 = fftpack.fft(x1, N)\n",
    "X2 = fftpack.fft(x2, N)\n",
    "\n",
    "k = np.arange(N)\n",
    "wk = 2*np.pi*k/N\n",
    "\n",
    "plt.figure()\n",
    "plt.plot(wk/np.pi, np.abs(X1), 'b')\n",
    "plt.plot(wk/np.pi, np.abs(X2), 'r')\n",
    "plt.xlabel('$\\omega/\\pi$')\n",
    "plt.ylabel('$|X(\\omega)|$')"
   ]
  },
  {
   "cell_type": "markdown",
   "metadata": {},
   "source": [
    "Spektar signala konačnog trajanja je\n",
    "$$\\hat{x} = \\frac{1}{2} \\left[ P_L \\left( e^{j \\left(\\omega-\\omega_1 \\right)} \\right) + P_L \\left( e^{j \\left(\\omega-\\omega_2 \\right)} \\right) + P_L \\left( e^{j \\left( \\omega+\\omega_1 \\right) } \\right) + P_L \\left( e^{j \\left( \\omega+\\omega_2 \\right) } \\right) \\right].$$\n",
    "\n",
    "Pošto je razlika između frekvencija $\\omega_1$ i $\\omega_2$ manja od širine glavnog luka prozorske funkcije, nije moguće razlikovati pojedine glavne lukove u spektru signala konačnog trajanja, odnosno, nije moguće razlikovati pojedine sinusoide u originalnom signalu.\n",
    "\n",
    "_Spektralna rezolucija_ je najmanja razlika između frekvencija sinusoida koje je moguće razlikovati u spektru signala. Korištenje signala konačnog trajanja ograničava spektralnu rezoluciju analizatora spektra.\n",
    "\n",
    "Prva nula spektra pravougaone prozorske funkcije je u $\\omega=\\frac{2 \\pi}{L}$. Da bismo mogli da razlikujemo glavne lukove treba da bude\n",
    "$$\\vert \\omega_1 - \\omega_2 \\vert \\geq \\frac{2 \\pi}{L}.$$\n",
    "\n",
    "U našem slučaju je $\\vert \\omega_1 - \\omega_2 \\vert = 0,02$ pa nam treba $L \\geq 100$. Dakle, za poboljšanje spektralne rezolucije potreban nam je duži uzorak signala. Dopunjavanje nulama ovdje nema efekta zato što ne donosi nove informacije o spektru signala."
   ]
  },
  {
   "cell_type": "code",
   "execution_count": null,
   "metadata": {},
   "outputs": [],
   "source": [
    "L = 128\n",
    "w1 = 0.2*np.pi\n",
    "w2 = 0.22*np.pi\n",
    "\n",
    "n = np.arange(L)\n",
    "x = np.cos(w1*n) + np.cos(w2*n)\n",
    "\n",
    "N = 512\n",
    "X = fftpack.fft(x, N)\n",
    "\n",
    "k = np.arange(N)\n",
    "wk = 2*np.pi*k/N\n",
    "\n",
    "plt.figure()\n",
    "plt.plot(wk/np.pi, np.abs(X))\n",
    "plt.xlabel('$\\omega/\\pi$')\n",
    "plt.ylabel('$|X(\\omega)|$')"
   ]
  },
  {
   "cell_type": "markdown",
   "metadata": {},
   "source": [
    "Druge prozorske funkcije imaju širi glavni luka pa je da bi se postigla ista rezolucija potrebno koristiti duže uzorke signala."
   ]
  },
  {
   "cell_type": "code",
   "execution_count": null,
   "metadata": {},
   "outputs": [],
   "source": [
    "L = 32\n",
    "w1 = 0.2*np.pi\n",
    "w2 = 0.22*np.pi\n",
    "\n",
    "n = np.arange(L)\n",
    "x = np.cos(w1*n) + np.cos(w2*n)\n",
    "x = x*windows.hann(L)\n",
    "\n",
    "N = 512\n",
    "X = fftpack.fft(x, N)\n",
    "\n",
    "k = np.arange(N)\n",
    "wk = 2*np.pi*k/N\n",
    "\n",
    "plt.figure()\n",
    "plt.plot(wk/np.pi, np.abs(X))\n",
    "plt.xlabel('$\\omega/\\pi$')\n",
    "plt.ylabel('$|X(\\omega)|$')"
   ]
  },
  {
   "cell_type": "code",
   "execution_count": null,
   "metadata": {},
   "outputs": [],
   "source": [
    "L = 128\n",
    "w1 = 0.2*np.pi\n",
    "w2 = 0.22*np.pi\n",
    "\n",
    "n = np.arange(L)\n",
    "x = np.cos(w1*n) + np.cos(w2*n)\n",
    "x = x*windows.hann(L)\n",
    "\n",
    "N = 512\n",
    "X = fftpack.fft(x, N)\n",
    "\n",
    "k = np.arange(N)\n",
    "wk = 2*np.pi*k/N\n",
    "\n",
    "plt.figure()\n",
    "plt.plot(wk/np.pi, np.abs(X))\n",
    "plt.xlabel('$\\omega/\\pi$')\n",
    "plt.ylabel('$|X(\\omega)|$')"
   ]
  },
  {
   "cell_type": "code",
   "execution_count": null,
   "metadata": {},
   "outputs": [],
   "source": [
    "L = 256\n",
    "w1 = 0.2*np.pi\n",
    "w2 = 0.22*np.pi\n",
    "\n",
    "n = np.arange(L)\n",
    "x = np.cos(w1*n) + np.cos(w2*n)\n",
    "x = x*windows.hann(L)\n",
    "\n",
    "N = 512\n",
    "X = fftpack.fft(x, N)\n",
    "\n",
    "k = np.arange(N)\n",
    "wk = 2*np.pi*k/N\n",
    "\n",
    "plt.figure()\n",
    "plt.plot(wk/np.pi, np.abs(X))\n",
    "plt.xlabel('$\\omega/\\pi$')\n",
    "plt.ylabel('$|X(\\omega)|$')"
   ]
  },
  {
   "cell_type": "markdown",
   "metadata": {},
   "source": [
    "## Primjeri spektralne analize signala"
   ]
  },
  {
   "cell_type": "markdown",
   "metadata": {},
   "source": [
    "Iskorisitćemo DFT za spektralnu analizu analognih signala. Zbog diskretizacije signala informacije o spektru analognog signala možemo dobiti samo u intervalu $-\\frac{F_s}{2} \\leq F \\leq \\frac{F_s}{2}$.\n",
    "\n",
    "Prvi primjer je ton C4 čija je frekvencija $F_0 = 261,626$ Hz."
   ]
  },
  {
   "cell_type": "code",
   "execution_count": null,
   "metadata": {
    "scrolled": false
   },
   "outputs": [],
   "source": [
    "F0 = 261.626\n",
    "Fs = 8000\n",
    "T = 0.05\n",
    "\n",
    "t = np.arange(0, T, 1.0/Fs)\n",
    "x = np.cos(2*np.pi*F0*t)\n",
    "\n",
    "plt.figure()\n",
    "plt.plot(t, x)\n",
    "plt.xlabel('t[s]')\n",
    "plt.ylabel('x(t)')"
   ]
  },
  {
   "cell_type": "markdown",
   "metadata": {},
   "source": [
    "Broj tačaka u kojima računamo DFT je prvi stepen broja 2 veći od trajanja uzorka signala. Razlozi za ovakav izbor su uslov da se izbjegne preklapanje u vremenskom domenu iz kojeg slijedi da broj tačaka DFT mora biti veći ili jednak od dužine uzorka i postojanje efikasnih algoritama za računanje DFT kada je broj tačaka stepen broja 2.\n",
    "\n",
    "Odmjerci spektra su u frekvencijama\n",
    "$$F_k = \\frac{k F_s}{N}, \\; k = 0, 1, \\ldots, N-1.$$"
   ]
  },
  {
   "cell_type": "code",
   "execution_count": null,
   "metadata": {},
   "outputs": [],
   "source": [
    "N = np.int(2**(np.ceil(np.log2(len(x)))))\n",
    "\n",
    "X = fftpack.fft(x, N)\n",
    "k = np.arange(N)\n",
    "F = k*Fs/N\n",
    "\n",
    "plt.figure()\n",
    "plt.plot(F, np.abs(X))\n",
    "plt.xlabel('$F$[Hz]')\n",
    "plt.ylabel('$|X(F)|$')"
   ]
  },
  {
   "cell_type": "markdown",
   "metadata": {},
   "source": [
    "U spektralnoj analizi analognog signala dio spektra u intervalu $\\frac{F_s}{2} \\leq F \\leq F_s$ nema fizički smisao pa se spektar najčešće crta u intervalu $-\\frac{F_s}{2} \\leq F \\leq \\frac{F_s}{2}$. Zahvaljujući periodičnosti DTFT, funkcija `fftshift` preuređuje vektor koeficijenata DFT tako da odgovaraju ovom opsegu frekvencija. Potrebno je još generisati vrijednosti frekvencija u kojima se nalaze odmjerci."
   ]
  },
  {
   "cell_type": "code",
   "execution_count": null,
   "metadata": {},
   "outputs": [],
   "source": [
    "X = fftpack.fftshift(X)/N\n",
    "k = np.arange(-N/2, N/2, dtype=int)\n",
    "F = k*Fs/N\n",
    "\n",
    "plt.figure()\n",
    "plt.plot(F, np.abs(X))\n",
    "plt.xlabel('$F$[Hz]')\n",
    "plt.ylabel('$|X(F)|$')"
   ]
  },
  {
   "cell_type": "markdown",
   "metadata": {},
   "source": [
    "Ponovićemo isti postupak sa složenoperiodičnim signalom\n",
    "$$x(t) = \\cos 2 \\pi F_0 t + \\cos 2 \\pi 2 F_0 t + \\cos 2 \\pi 4 F_0 t.$$"
   ]
  },
  {
   "cell_type": "code",
   "execution_count": null,
   "metadata": {},
   "outputs": [],
   "source": [
    "F0 = 261.626\n",
    "Fs = 8000\n",
    "T = 0.05\n",
    "\n",
    "t = np.arange(0, T, 1.0/Fs)\n",
    "x = np.cos(2*np.pi*F0*t) + 0.5*np.cos(2*np.pi*2*F0*t) + 0.25*np.cos(2*np.pi*4*F0*t)\n",
    "\n",
    "plt.figure()\n",
    "plt.plot(t, x)\n",
    "plt.xlabel('t[s]')\n",
    "plt.ylabel('x(t)')"
   ]
  },
  {
   "cell_type": "code",
   "execution_count": null,
   "metadata": {},
   "outputs": [],
   "source": [
    "N = np.int(2**(np.ceil(np.log2(len(x)))))\n",
    "X = fftpack.fft(x, N)/N\n",
    "X = fftpack.fftshift(X)\n",
    "k = np.arange(-N/2, N/2, dtype=int)\n",
    "F = k*Fs/N\n",
    "\n",
    "plt.figure()\n",
    "plt.plot(F, np.abs(X))\n",
    "plt.xlabel('$F$[Hz]')\n",
    "plt.ylabel('$|X(F)|$')"
   ]
  },
  {
   "cell_type": "markdown",
   "metadata": {},
   "source": [
    "Analizirajmo sada ton C4 odsviran na klaviru."
   ]
  },
  {
   "cell_type": "code",
   "execution_count": null,
   "metadata": {},
   "outputs": [],
   "source": [
    "from scipy.io import wavfile\n",
    "from IPython.display import Audio\n",
    "\n",
    "Fs, x = wavfile.read('piano-C4.wav')\n",
    "x = x / np.max(np.abs(x))\n",
    "\n",
    "Audio(x, rate=Fs)"
   ]
  },
  {
   "cell_type": "code",
   "execution_count": null,
   "metadata": {},
   "outputs": [],
   "source": [
    "N = len(x)\n",
    "\n",
    "X = fftpack.fft(x)/N\n",
    "X = fftpack.fftshift(X)\n",
    "k = np.arange(-N/2, N/2, dtype=int)\n",
    "F = k*Fs/N\n",
    "\n",
    "plt.figure()\n",
    "plt.plot(F, np.abs(X))\n",
    "plt.xlabel('$F$[Hz]')\n",
    "plt.ylabel('$|X(F)|$')"
   ]
  },
  {
   "cell_type": "markdown",
   "metadata": {},
   "source": [
    "Frekvencija odmjeravanja u ovom slučaju je 11025 Hz. Spektar je normalizovan tako da je njegova najveća vrijednost jednaka jedinici. Izraženi impulsi na približno jednakim razmacima na frekvencijskoj osi ukazuju na približno diskretnu prirodu ovog spektra, odnosno, na približnu periodičnost signala. To je zaista tačno, jer je ton na klaviru proizveden vibriranjem žice. Razmak između impulsa jednak je osnovnoj frekvenciji ovog tona, a prisustvo viših harmonika i njihovi relativni odnosi određuju njegovu boju. U ovom slučaju detektovana osnovna frekvencija\n",
    "je $F_0 = 261,635$ Hz što je blizu frekvencije tona C4 od 261,626 Hz. Sa slike je primjetno i curenje spektra. Međutim, zahvaljujući velikom broju tačaka u kojima je izracunata DFT (jednak\n",
    "trajanju signala u odmjercima), impulsi su vrlo uski, a zahvaljujući dobrom odnosu signal-šum, lako ih je detektovati, tako da curenje spektra u ovom slučaju ne predstavlja znacajan problem."
   ]
  },
  {
   "cell_type": "markdown",
   "metadata": {},
   "source": [
    "Na kraju, pogledajmo i spektar govornog signala, konkretno, vokala /a/."
   ]
  },
  {
   "cell_type": "code",
   "execution_count": null,
   "metadata": {},
   "outputs": [],
   "source": [
    "Fs, x = wavfile.read('sat.wav')\n",
    "x = x - np.mean(x)\n",
    "x = x / np.max(np.abs(x))\n",
    "\n",
    "Audio(x, rate=Fs)"
   ]
  },
  {
   "cell_type": "code",
   "execution_count": null,
   "metadata": {},
   "outputs": [],
   "source": [
    "t = np.arange(len(x))/Fs\n",
    "plt.figure()\n",
    "plt.plot(t, x)\n",
    "plt.xlabel('t[s]')\n",
    "plt.ylabel('x(t)')"
   ]
  },
  {
   "cell_type": "markdown",
   "metadata": {},
   "source": [
    "Izdvojićemo dio signala dužine 512 odmjeraka koji odgovara vokalu /a/, izračunati DFT u 2048 tačaka i nacrtati njegov spektar."
   ]
  },
  {
   "cell_type": "code",
   "execution_count": null,
   "metadata": {},
   "outputs": [],
   "source": [
    "y = x[6000:6512]\n",
    "\n",
    "N = 2048\n",
    "Y = fftpack.fft(y, N)/N\n",
    "Y = fftpack.fftshift(Y)\n",
    "k = np.arange(-N/2, N/2, dtype=int)\n",
    "F = k*Fs/N\n",
    "\n",
    "plt.figure()\n",
    "plt.plot(F, np.abs(Y))\n",
    "plt.xlabel('F[Hz]')\n",
    "plt.ylabel('|X(F)|')"
   ]
  },
  {
   "cell_type": "markdown",
   "metadata": {},
   "source": [
    "Zbog izraženog curenja spektra, bolji rezultati se dobijaju korištenjem Hemingove prozorske funkcije."
   ]
  },
  {
   "cell_type": "code",
   "execution_count": null,
   "metadata": {},
   "outputs": [],
   "source": [
    "y = y * windows.hamming(len(y))\n",
    "Y = fftpack.fft(y, N)/N\n",
    "Y = fftpack.fftshift(Y)\n",
    "k = np.arange(-N/2, N/2, dtype=int)\n",
    "F = k*Fs/N\n",
    "\n",
    "plt.figure()\n",
    "plt.plot(F, np.abs(Y))\n",
    "plt.xlabel('F[Hz]')\n",
    "plt.ylabel('|X(F)|')"
   ]
  },
  {
   "cell_type": "markdown",
   "metadata": {},
   "source": [
    "Ponovo vidimo približno linijsku strukturu spektra što ukazuje na približno periodičan signal. Zaista, vokal /a/ nastaje strujanjem vazduha preko glasnih žica što uzrokuje njihovo treperenje pa je rezultujući signal približno periodičan."
   ]
  },
  {
   "cell_type": "markdown",
   "metadata": {},
   "source": [
    "Pogledajmo sada spektar uzorka signala trajanja 64 odmjerka."
   ]
  },
  {
   "cell_type": "code",
   "execution_count": null,
   "metadata": {
    "scrolled": false
   },
   "outputs": [],
   "source": [
    "y = x[6000:6064]\n",
    "y = y * windows.hamming(len(y))\n",
    "\n",
    "N = 2048\n",
    "Y = fftpack.fft(y, N)/N\n",
    "Y = fftpack.fftshift(Y)\n",
    "k = np.arange(-N/2, N/2, dtype=int)\n",
    "F = k*Fs/N\n",
    "\n",
    "plt.figure()\n",
    "plt.plot(F, np.abs(Y))\n",
    "plt.xlabel('F[Hz]')\n",
    "plt.ylabel('|X(F)|')"
   ]
  },
  {
   "cell_type": "markdown",
   "metadata": {},
   "source": [
    "Linijska struktura spektra se više ne vidi, ali primjetni su lokalni maksimumi. Ovi lokalni maksimumi predstavljaju _formante_ glasa /a/ i to su frekvencijski opsezi sa visokom energijom signala. Na formantnim frekvencijama dolazi do pojave rezonancije u govornom traktu. Formanti su značajni u kodovanju, sintezi i prepoznavanju govora."
   ]
  },
  {
   "cell_type": "code",
   "execution_count": null,
   "metadata": {},
   "outputs": [],
   "source": []
  }
 ],
 "metadata": {
  "kernelspec": {
   "display_name": "Python 3",
   "language": "python",
   "name": "python3"
  },
  "language_info": {
   "codemirror_mode": {
    "name": "ipython",
    "version": 3
   },
   "file_extension": ".py",
   "mimetype": "text/x-python",
   "name": "python",
   "nbconvert_exporter": "python",
   "pygments_lexer": "ipython3",
   "version": "3.7.2"
  }
 },
 "nbformat": 4,
 "nbformat_minor": 2
}
