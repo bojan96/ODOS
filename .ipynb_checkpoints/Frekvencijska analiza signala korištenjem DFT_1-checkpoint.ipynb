{
 "cells": [
  {
   "cell_type": "markdown",
   "metadata": {},
   "source": [
    "# Vježba 7 - Frekvencijska analiza signala korištenjem DFT"
   ]
  },
  {
   "cell_type": "markdown",
   "metadata": {},
   "source": [
    "## Izračunavanje konvolucije pomoću DFT"
   ]
  },
  {
   "cell_type": "markdown",
   "metadata": {},
   "source": [
    "1. Napisati funkciju u Python-u koja će izračunavati konvoluciju zadatih nizova pomoću DFT."
   ]
  },
  {
   "cell_type": "code",
   "execution_count": 132,
   "metadata": {},
   "outputs": [],
   "source": [
    "def fconv(h, x):\n",
    "    \n",
    "    pass"
   ]
  },
  {
   "cell_type": "markdown",
   "metadata": {},
   "source": [
    "2. Testirati funkciju na primjeru nizova $h(n) = \\left\\{1,2,3\\right\\}$ i $x(n) = \\left\\{1,2,2,1\\right\\}$ . "
   ]
  },
  {
   "cell_type": "code",
   "execution_count": 133,
   "metadata": {},
   "outputs": [],
   "source": [
    "### KOD"
   ]
  },
  {
   "cell_type": "markdown",
   "metadata": {},
   "source": [
    "3. Prednost izračunavanja konvolucije pomoću DFT postaje vidljiva kada se računa konvolucija dugih nizova. Da biste ovo provjerili učitajte signale u fajlovima <i>handel11025.wav</i> i <i>impulse_cathedral.wav</i> i odredite njihovu konvoluciju pomoću Numpy funkcije convolve (u vremenskom domenu) i vaše funkcije fconv (u frekvencijskom domenu)."
   ]
  },
  {
   "cell_type": "code",
   "execution_count": 134,
   "metadata": {},
   "outputs": [],
   "source": [
    "### KOD"
   ]
  },
  {
   "cell_type": "markdown",
   "metadata": {},
   "source": [
    "## Curenje spektra"
   ]
  },
  {
   "cell_type": "markdown",
   "metadata": {},
   "source": [
    "1. Dat je diskretni signal $x(n) = cos(2\\pi n/\\sqrt{31})$. Generisati $L = 32$ odmjerka datog signala. Nacrtati signal u vremenskom domenu. Da li je signal periodičan?"
   ]
  },
  {
   "cell_type": "code",
   "execution_count": 137,
   "metadata": {},
   "outputs": [],
   "source": [
    "### KOD"
   ]
  },
  {
   "cell_type": "markdown",
   "metadata": {},
   "source": [
    "2. Izračunati DFT datog signala u $N = 32$ tačke. Nacrtati moduo DFT, a na apscisi označiti indeks DFT (koristiti naredbu stem)."
   ]
  },
  {
   "cell_type": "code",
   "execution_count": 138,
   "metadata": {},
   "outputs": [],
   "source": [
    "### KOD"
   ]
  },
  {
   "cell_type": "markdown",
   "metadata": {},
   "source": [
    "3. Nacrtati amplitudni spektar diskretnog signala $x(n)$ (kontinualna funkcija, koristiti naredbu plot) tako da na apscisi bude digitalna frekvencija normalizovana tako da vrijednost 1 odgovara frekvenciji od $\\pi$ rad/odmjerku. Nacrtati dva grafika: na jednom na ordinati treba da bude moduo spektra signala, a na drugom moduo u dB. Da li je došlo do curenja spektra signala? Objasniti. Zašto se na dobijenom spektru ne vide bočni lukovi karakteristični za izračunavanje spektra na osnovu sekvence konačnog trajanja?"
   ]
  },
  {
   "cell_type": "code",
   "execution_count": 139,
   "metadata": {},
   "outputs": [],
   "source": [
    "### KOD"
   ]
  },
  {
   "cell_type": "markdown",
   "metadata": {},
   "source": [
    "4. Izračunati DFT signala iz tačke 1. u $N = 512$ tačaka."
   ]
  },
  {
   "cell_type": "code",
   "execution_count": 140,
   "metadata": {},
   "outputs": [],
   "source": [
    "### KOD"
   ]
  },
  {
   "cell_type": "markdown",
   "metadata": {},
   "source": [
    "5. Pomoću DFT određene u prethodnoj tački nacrtati amplitudni spektar datog signala (kontinualna funkcija, koristiti naredbu plot) tako da na apscisi bude digitalna frekvencija normalizovana tako da vrijednost 1 odgovara frekvenciji od $\\pi$ rad/odmjerku. Nacrtati dva grafika: na jednom na ordinati treba da bude moduo spektra signala, a na drugom moduo u dB. Objasniti razliku između dobijenih grafika i grafika iz tačke 3. Kolika je razlika u dB između maksimuma glavnog i bočnih lukova spektra?"
   ]
  },
  {
   "cell_type": "code",
   "execution_count": 141,
   "metadata": {},
   "outputs": [],
   "source": [
    "### KOD"
   ]
  },
  {
   "cell_type": "markdown",
   "metadata": {},
   "source": [
    "6. Generisati Blackmanov prozor dužine $L = 32$. Prozorsku funkciju je moguće generisati korištenjem funkcija iz scipy.signal.windows paketa. Nacrtati prozor u vremenskom domenu. Koristeći Python izračunati DFT Blackmanovog prozora u $N = 512$ tačaka. Nacrtati amplitudni spektar ovog prozora."
   ]
  },
  {
   "cell_type": "code",
   "execution_count": 142,
   "metadata": {},
   "outputs": [],
   "source": [
    "### KOD"
   ]
  },
  {
   "cell_type": "markdown",
   "metadata": {},
   "source": [
    "7. Formirati novi signal primjenom Blackmanovog prozora na signal iz tačke 1. Nacrtati dobijeni signal u vremenskom domenu. Primjena prozorske funkcije na signal odgovara množenju signala i prozorske funkcije element po element."
   ]
  },
  {
   "cell_type": "code",
   "execution_count": 143,
   "metadata": {},
   "outputs": [],
   "source": [
    "### KOD"
   ]
  },
  {
   "cell_type": "markdown",
   "metadata": {},
   "source": [
    "8. Izračunati DFT dobijenog signala u $N = 512$ tačaka."
   ]
  },
  {
   "cell_type": "code",
   "execution_count": 144,
   "metadata": {},
   "outputs": [],
   "source": [
    "### KOD"
   ]
  },
  {
   "cell_type": "markdown",
   "metadata": {},
   "source": [
    "9. Pomoću DFT određene u prethodnoj tački nacrtati amplitudni spektar diskretnog signala iz tačke 8. (kontinualna funkcija, koristiti naredbu plot) tako da na apscisi bude digitalna frekvencija normalizovana tako da vrijednost 1 odgovara frekvenciji od $\\pi$ rad/odmjerku. Nacrtati dva grafika: na jednom na ordinati treba da bude moduo spektra signala, a na drugom moduo u dB. Kolika je razlika u dB između maksimuma glavnog i bočnih lukova spektra? Objasniti razliku između dobijenih grafika i grafika iz tačke 5."
   ]
  },
  {
   "cell_type": "code",
   "execution_count": 145,
   "metadata": {},
   "outputs": [],
   "source": [
    "### KOD"
   ]
  },
  {
   "cell_type": "markdown",
   "metadata": {},
   "source": [
    "10. Ponoviti tačke 6-9 za Hammingov prozor. Objasniti razlike u dobijenim rezultatima u odnosu na Blackmanov prozor."
   ]
  },
  {
   "cell_type": "code",
   "execution_count": 146,
   "metadata": {},
   "outputs": [],
   "source": [
    "### KOD"
   ]
  },
  {
   "cell_type": "markdown",
   "metadata": {},
   "source": [
    "## Spektralna analiza analognih signala pomoću DFT"
   ]
  },
  {
   "cell_type": "markdown",
   "metadata": {},
   "source": [
    "1. Napisati funkciju u Python-u koji će računati i crtati spektar diskretizovanog analognog signala: freqplot(x, Fs, N, win), čiji su ulazni argumenti vektor x u kojem su odmjerci signala, upotrebljena frekvencija odmjeravanja Fs, broj tačaka u kojima se računa DFT N i odmjerci prozorske funkcije koja će se koristiti win. Na apscisi grafika treba da bude frekvencija u Hercima, pri čemu treba crtati samo spektar signala za pozitivne frekvencije (fizički spektar)."
   ]
  },
  {
   "cell_type": "code",
   "execution_count": 147,
   "metadata": {},
   "outputs": [],
   "source": [
    "def freqplot(x, Fs, N, win):\n",
    "    ### KOD\n",
    "    pass"
   ]
  },
  {
   "cell_type": "markdown",
   "metadata": {},
   "source": [
    "2. Testirati napisanu funkciju za signal $x(t) = 0.5cos(2\\pi F_1 t) + cos(2\\pi F_2 t)$, gdje su $F_1 = 22Hz$, $F_2 = 41Hz$, a frekvencija odmjeravanja $F_S = 100Hz$. Generisati 16 odmjeraka datog signala i nacrtati spektre dobijene pomoću DFT u 16 i 128 tačaka. Takođe, upotrebite pravougaoni i Hemingov prozor. U kojim slučajevima je moguće odrediti tačan broj i frekvencije komponenata signala? "
   ]
  },
  {
   "cell_type": "code",
   "execution_count": 148,
   "metadata": {},
   "outputs": [],
   "source": [
    "### KOD"
   ]
  },
  {
   "cell_type": "markdown",
   "metadata": {},
   "source": [
    "## Rezolucija"
   ]
  },
  {
   "cell_type": "markdown",
   "metadata": {},
   "source": [
    "1. Dat je kontinualni signal $x(t) = cos(2\\pi 800t) + cos(2\\pi 888.8t) + cos(2\\pi 1600t)$. Odrediti diskretni signal dobijen diskretizacijom datog signala sa brzinom odmjeravanja $F_S = 8kHz$. Kolike su učestanosti dobijenog diskretnog signala? Generisati 64 odmjerka diskretnog signala i na osnovu njih nacrtati pseudorekonstrukciju kontinualnog signala, tj. nacrtati signal korištenjem naredbe plot. Vremensku osu označiti u sekundama."
   ]
  },
  {
   "cell_type": "code",
   "execution_count": 149,
   "metadata": {},
   "outputs": [],
   "source": [
    "### KOD"
   ]
  },
  {
   "cell_type": "markdown",
   "metadata": {},
   "source": [
    "2. Izračunati DFT dobijenog diskretnog signala bez dopunjavanja nulama. Nacrtati njegovu magnitudu korištenjem naredbe plot. Na apscisi označiti digitalnu frekvenciju (normalizovanu sa $\\pi$). Da li je moguće očekivati dobru aproksimaciju spektra diskretnog signala? Zašto? Da li dolazi do curenja spektra? Zašto? Da li je postignuta zadovoljavajuća rezolucija DFT? "
   ]
  },
  {
   "cell_type": "code",
   "execution_count": 150,
   "metadata": {},
   "outputs": [],
   "source": [
    "### KOD"
   ]
  },
  {
   "cell_type": "markdown",
   "metadata": {},
   "source": [
    "3. Odrediti sada DFT istog diskretnog signala u 1024 i 2048 tačaka uz dopunjavanje nulama. Nacrtati amplitudni spektar datog signala (koristiti naredbu plot). Na apscisi označiti digitalnu frekvenciju (normalizovanu sa $\\pi$), a ordinata treba da bude u dB. Da li je moguće očekivati dobru aproksimaciju spektra diskretnog signala? Da li dolazi do curenja spektra? Zašto? Da li je postignuta zadovoljavajuća rezolucija DFT? Kako dopunjavanje nulama utiče na rezoluciju?"
   ]
  },
  {
   "cell_type": "code",
   "execution_count": 151,
   "metadata": {},
   "outputs": [],
   "source": [
    "### KOD"
   ]
  },
  {
   "cell_type": "markdown",
   "metadata": {},
   "source": [
    "4. Generisati sada 256 i 512 odmjeraka diskretnog signala i na osnovu njih nacrtati pseudorekonstrukciju kontinualnog signala, tj. nacrtati signal korištenjem naredbe plot. Vremensku osu označiti u sekundama."
   ]
  },
  {
   "cell_type": "code",
   "execution_count": 152,
   "metadata": {},
   "outputs": [],
   "source": [
    "### KOD"
   ]
  },
  {
   "cell_type": "markdown",
   "metadata": {},
   "source": [
    "5. Ponoviti tačke 2. i 3. za odmjerke signala generisane u tački 4. Komentarisati uočene pojave."
   ]
  },
  {
   "cell_type": "code",
   "execution_count": 153,
   "metadata": {},
   "outputs": [],
   "source": [
    "### KOD"
   ]
  },
  {
   "cell_type": "markdown",
   "metadata": {},
   "source": [
    "6. Situacija opisana do sada može se posmatrati i kao primjena pravougaone prozorske funkcije na ulazni signal. U prethodnim sekcijama je pomenuto da se korištenjem drugih prozorskih funkcija može smanjiti uticaj curenja spektra. Ponoviti tačke 2-5 za Blekmenovu i Hemingovu prozorsku funkciju. Komentarisati uticaj prozorske funkcije na rezoluciju."
   ]
  },
  {
   "cell_type": "code",
   "execution_count": 154,
   "metadata": {},
   "outputs": [],
   "source": [
    "### KOD"
   ]
  }
 ],
 "metadata": {
  "kernelspec": {
   "display_name": "Python 3",
   "language": "python",
   "name": "python3"
  },
  "language_info": {
   "codemirror_mode": {
    "name": "ipython",
    "version": 3
   },
   "file_extension": ".py",
   "mimetype": "text/x-python",
   "name": "python",
   "nbconvert_exporter": "python",
   "pygments_lexer": "ipython3",
   "version": "3.7.2"
  }
 },
 "nbformat": 4,
 "nbformat_minor": 2
}
