{
 "cells": [
  {
   "cell_type": "markdown",
   "metadata": {},
   "source": [
    "# Vježba 3 - Konvolucija"
   ]
  },
  {
   "cell_type": "markdown",
   "metadata": {},
   "source": [
    "U osnovi analize linearnih vremenskih nepromjenljivih sistema nalazi se konvolucija. Ova operacija omogućava da se na osnovu impulsnog odziva sistema $h(n)$ i ulazne sekvence $x(n)$ odredi odziv $y(n)$ linearnog vremenski nepromjenljivog sistema. Konvolucija dvije sekvence izračunava se kao:\n",
    "$$\n",
    "y(n) = x(n) * h(n) = h(n) * x(n) = \\sum_{k = -\\infty}^{\\infty}{x(k) h(n-k)} = \\sum_{k = -\\infty}^{\\infty}{x(n-k) h(k)}.\n",
    "$$\n",
    "Ukoliko su sekvence kauzalne i konačne dužine $N$ granice sume se svode na:\n",
    "$$\n",
    "y(n) = \\sum_{k = 0}^{N - 1}{x(k) h(n-k)} = \\sum_{k = 0}^{N - 1}{x(n-k) h(k)}.\n",
    "$$\n",
    "Operacija srodna konvoluciji je korelacija. Kroskorelacija dvije sekvence $x(n)$ i $y(n)$ je sekvenca $r_{xy}(l)$ definisana sa:\n",
    "$$\n",
    "r_{xy}(l) = \\sum_{n = -\\infty}^{\\infty}{x(n) y(n-l)} = \\sum_{n = -\\infty}^{\\infty}{x(n+l) y(n)},    l = 0, \\pm 1, \\pm 2, ...\n",
    "$$\n",
    "U specijalnom slučaju kada je $x(n) = y(n)$ radi se o autokorelaciji signala $x(n)$, koja se definiše kao sekvenca:\n",
    "$$\n",
    "r_{xx}(l) = \\sum_{n = -\\infty}^{\\infty}{x(n) x(n-l)} = \\sum_{n = -\\infty}^{\\infty}{x(n+l) x(n)},    l = 0, \\pm 1, \\pm 2, ...\n",
    "$$\n",
    "Kada su $x(n)$ i $y(n)$ kauzalne sekvence dužine $N$ jednačine za kroskorelaciju i autokorelaciju postaju:\n",
    "$$\n",
    "r_{xy}(l) = \\sum_{n = i}^{N - \\left|k\\right| - 1}{x(n) y(n-l)}\n",
    "$$\n",
    "odnosno,\n",
    "$$\n",
    "r_{xx}(l) = \\sum_{n = i}^{N - \\left|k\\right| - 1}{x(n) x(n-l)}\n",
    "$$\n",
    "gdje je $i = l, k = 0$ za $l \\ge 0$ i $i = 0, k = l$ za $l < 0$.\n",
    "Konvolucija i korelacija dvije sekvence su povezane na sljedeći način:\n",
    "$$\n",
    "r_{xy}(l) = x(l) * y(-l).\n",
    "$$"
   ]
  },
  {
   "cell_type": "markdown",
   "metadata": {},
   "source": [
    "## Zadaci"
   ]
  },
  {
   "cell_type": "markdown",
   "metadata": {},
   "source": [
    "1. Napisati u Python-u funkciju convolution kojom se implementira konvolucija ulaznih signala $x$ i $h$. Rezultat treba da bude puna konvolucija dužine $ny = nx + nh – 1$,  pri čemu su $nx$ i $nh$ dužine sekvenci $x$, odnosno, $h$."
   ]
  },
  {
   "cell_type": "code",
   "execution_count": 1,
   "metadata": {},
   "outputs": [],
   "source": [
    "import numpy as np\n",
    "def convolution(x, h):\n",
    "    ### KOD\n",
    "    pass"
   ]
  },
  {
   "cell_type": "markdown",
   "metadata": {},
   "source": [
    "2. Dat je impulsni odziv jednog linearnog vremenski nepromjenljivog sistema:\n",
    "$$\n",
    "h(n) = \\{1, 2, 1, -1\\}\n",
    "$$\n",
    "Korištenjem prethodno napisane funkcije za konvoluciju odrediti odziv ovog sistema na ulaznu sekvencu i nacrtati taj odziv:\n",
    "$$\n",
    "x(n) = \\{1, 2, 3, 1\\}\n",
    "$$\n",
    "U oba slučaja ishodište $n = 0$ odgovara prvom elementu sekvence."
   ]
  },
  {
   "cell_type": "code",
   "execution_count": 2,
   "metadata": {},
   "outputs": [],
   "source": [
    "%matplotlib notebook\n",
    "import matplotlib.pyplot as plt\n",
    "### KOD"
   ]
  },
  {
   "cell_type": "markdown",
   "metadata": {},
   "source": [
    "3. Neka je impulsni odziv sistema isti kao u prethodnoj tački, a neka je ulazna sekvenca sada:\n",
    "$$\n",
    "x(n) = \\{0, 0, 1, 2, 3, 1\\}\n",
    "$$\n",
    "U oba slučaja ishodište $n = 0$ odgovara prvom elementu sekvence. Odrediti i nacrtati odziv."
   ]
  },
  {
   "cell_type": "code",
   "execution_count": 3,
   "metadata": {},
   "outputs": [],
   "source": [
    "### KOD"
   ]
  },
  {
   "cell_type": "markdown",
   "metadata": {},
   "source": [
    "4. Neka je sada impulsni odziv sistema:\n",
    "$$\n",
    "h(n) = \\{1, \\underline{2}, 1, -1\\}\n",
    "$$\n",
    "Podvučeno je označen odmjerak koji odgovara trenutku $n = 0$. Odrediti i nacrtati odziv ovog sistema na ulaznu sekvencu iz tačke 2."
   ]
  },
  {
   "cell_type": "code",
   "execution_count": 4,
   "metadata": {},
   "outputs": [],
   "source": [
    "### KOD"
   ]
  },
  {
   "cell_type": "markdown",
   "metadata": {},
   "source": [
    "5. Korištenjem funkcije convolution odrediti odzive sistema $\\mathcal{T}_{1}$ i $\\mathcal{T}_{2}$ na signal $x(n) = \\{1, 2, 1\\}$ za $0 \\le n \\le 10$. Odrediti zbir ovih odziva. Rezultujuće signale prikazati grafički. Poznati su impulsni odzivi sistema $\\mathcal{T}_{1}$ i $\\mathcal{T}_{2}$:\n",
    "$$\n",
    "\\mathcal{T}_{1} : h_{1}(n) = \\left\\{1, \\frac{1}{2}, \\frac{1}{4}, \\frac{1}{8}, \\frac{1}{16}, \\frac{1}{32}\\right\\}\n",
    "$$\n",
    "$$\n",
    "\\mathcal{T}_{2} : h_{2}(n) = \\left\\{1, 1, 1, 1\\right\\}\n",
    "$$"
   ]
  },
  {
   "cell_type": "code",
   "execution_count": 5,
   "metadata": {},
   "outputs": [],
   "source": [
    "### KOD"
   ]
  },
  {
   "cell_type": "markdown",
   "metadata": {},
   "source": [
    "6. Korištenjem konvolucije odrediti autokorelacionu sekvencu signala $x(n) = \\{1, 1, 1\\}$. Rezultat prikazati grafički."
   ]
  },
  {
   "cell_type": "code",
   "execution_count": 6,
   "metadata": {},
   "outputs": [],
   "source": [
    "### KOD"
   ]
  },
  {
   "cell_type": "markdown",
   "metadata": {},
   "source": [
    "Jedna od čestih primjena kroskorelacije je u radarskim sistemima. Pretpostavimo da smo predali signal $x(n)$ ukoliko posto meta u oblasti pretraživanja radara na prijemniku ćemo dobiti signal $y(n)$ koji se sastoji od zakašnjene verzije emitovanog signala koji je reflektovan od metu i na koji je dodan aditivni šum. Ovaj signal $y(n)$ se može opisati jednačinom:\n",
    "$$\n",
    "y(n) = \\alpha x(n-D) + w(n),\n",
    "$$\n",
    "gdje je $\\alpha$ koeficijent refleksije koji predstavlja slabljenje signala $x(n)$, $D$ je kašnjenje signala za koje se pretpostavlja da je cjelobrojni umnožak intervala odmjeravanja, i $w(n)$ predstavlja aditivni šum koji je prikupljen na anteni ili bilo kakav šum generisan od strane elektronskih komponenti u prijemniku. Ukoliko cilj nije prisutan u oblasti pretraživanja radara onda se signal $y(n)$ sastoji samo od šuma."
   ]
  },
  {
   "cell_type": "markdown",
   "metadata": {},
   "source": [
    "7. Neka je signal $x(n)$ Barkerova sekvenca:\n",
    "$$\n",
    "x(n) = \\{+1, +1, +1, +1, +1, −1, −1, +1, +1, −1, +1, −1, +1\\}\n",
    "$$\n",
    "i neka je $w(n)$ uzet iz Gausove distribucije sa nultom srednjom vrijednosti i varijansom $\\sigma^{2} = 0.01$. Napisati kod koji generiše sekvencu $y(n), 0 \\le n \\le 199$ za $\\alpha = 0.9$ i $D = 20$. Nacrtati signale $x(n)$ i $y(n)$ na intervalu $0 \\le n \\le 199$. Odrediti kroskorelaciju ova dva signala, pa i nju nacrtati. Da li se iz kroskorelacije može odrediti kašnjenje signala?"
   ]
  },
  {
   "cell_type": "code",
   "execution_count": 7,
   "metadata": {},
   "outputs": [],
   "source": [
    "### KOD"
   ]
  },
  {
   "cell_type": "markdown",
   "metadata": {},
   "source": [
    "8. Ponoviti prethodnu proceduru za $\\sigma^{2} = 0.1$ i $\\sigma^{2} = 1$"
   ]
  },
  {
   "cell_type": "code",
   "execution_count": 8,
   "metadata": {},
   "outputs": [],
   "source": [
    "### KOD"
   ]
  }
 ],
 "metadata": {
  "kernelspec": {
   "display_name": "Python 3",
   "language": "python",
   "name": "python3"
  },
  "language_info": {
   "codemirror_mode": {
    "name": "ipython",
    "version": 3
   },
   "file_extension": ".py",
   "mimetype": "text/x-python",
   "name": "python",
   "nbconvert_exporter": "python",
   "pygments_lexer": "ipython3",
   "version": "3.7.2"
  }
 },
 "nbformat": 4,
 "nbformat_minor": 2
}
